{
 "cells": [
  {
   "cell_type": "code",
   "execution_count": 110,
   "metadata": {},
   "outputs": [],
   "source": [
    "import pandas as pd\n",
    "import requests\n",
    "import io"
   ]
  },
  {
   "cell_type": "code",
   "execution_count": 111,
   "metadata": {},
   "outputs": [],
   "source": [
    "API_KEY = \"861E6E6E-6BD2-3C50-8731-82E4EC90A5E3\"\n"
   ]
  },
  {
   "cell_type": "code",
   "execution_count": 112,
   "metadata": {},
   "outputs": [],
   "source": [
    "# API Documentation at https://quickstats.nass.usda.gov/api/\n",
    "\n",
    "params = {\n",
    "    \"source_desc\": \"SURVEY\",\n",
    "    \"sector_desc\": \"CROPS\",\n",
    "    \"group_desc\": \"FIELD CROPS\",\n",
    "    \"commodity_desc\": \"CORN\",\n",
    "    \"statisticcat_desc\": \"YIELD\",\n",
    "    \"short_desc\": \"CORN, GRAIN - YIELD, MEASURED IN BU / ACRE\",\n",
    "    \"domain_desc\": \"TOTAL\",\n",
    "    \"agg_level_desc\": \"COUNTY\",\n",
    "    \"year__GE\": \"2013\"\n",
    "}\n",
    "\n",
    "query = \"&\".join([f\"{key}={val}\" for key, val in params.items()])\n",
    "\n",
    "URL = f\"https://quickstats.nass.usda.gov/api/api_GET/?key={API_KEY}&{query}&format=CSV\"\n",
    "headers = {'User-Agent': ''} # NEEDED BECAUSE USDA BLOCKS 'non-browser' traffic\n"
   ]
  },
  {
   "cell_type": "code",
   "execution_count": 169,
   "metadata": {},
   "outputs": [],
   "source": [
    "response = requests.get(URL,headers = {'User-Agent': ''})"
   ]
  },
  {
   "cell_type": "code",
   "execution_count": 170,
   "metadata": {},
   "outputs": [],
   "source": [
    "df = pd.read_csv(io.StringIO(response.content.decode(\"UTF-8\")), thousands=\",\")"
   ]
  },
  {
   "cell_type": "code",
   "execution_count": 171,
   "metadata": {},
   "outputs": [
    {
     "name": "stdout",
     "output_type": "stream",
     "text": [
      "14524\n",
      "Index(['source_desc', 'sector_desc', 'group_desc', 'commodity_desc',\n",
      "       'class_desc', 'prodn_practice_desc', 'util_practice_desc',\n",
      "       'statisticcat_desc', 'unit_desc', 'short_desc', 'domain_desc',\n",
      "       'domaincat_desc', 'agg_level_desc', 'state_ansi', 'state_fips_code',\n",
      "       'state_alpha', 'state_name', 'asd_code', 'asd_desc', 'county_ansi',\n",
      "       'county_code', 'county_name', 'region_desc', 'zip_5', 'watershed_code',\n",
      "       'watershed_desc', 'congr_district_code', 'country_code', 'country_name',\n",
      "       'location_desc', 'year', 'freq_desc', 'begin_code', 'end_code',\n",
      "       'reference_period_desc', 'week_ending', 'load_time', 'Value', 'CV (%)'],\n",
      "      dtype='object')\n"
     ]
    }
   ],
   "source": [
    "print(len(df))\n",
    "print(df.columns)"
   ]
  },
  {
   "cell_type": "markdown",
   "metadata": {},
   "source": [
    "That's a lot of columns. Let's keep the ones we care about."
   ]
  },
  {
   "cell_type": "code",
   "execution_count": 116,
   "metadata": {},
   "outputs": [],
   "source": [
    "columnsToKeep = [\"year\", \"state_name\", 'county_name', \"Value\"]\n",
    "df = df[columnsToKeep]"
   ]
  },
  {
   "cell_type": "code",
   "execution_count": 117,
   "metadata": {},
   "outputs": [
    {
     "data": {
      "text/html": [
       "<div>\n",
       "<style scoped>\n",
       "    .dataframe tbody tr th:only-of-type {\n",
       "        vertical-align: middle;\n",
       "    }\n",
       "\n",
       "    .dataframe tbody tr th {\n",
       "        vertical-align: top;\n",
       "    }\n",
       "\n",
       "    .dataframe thead th {\n",
       "        text-align: right;\n",
       "    }\n",
       "</style>\n",
       "<table border=\"1\" class=\"dataframe\">\n",
       "  <thead>\n",
       "    <tr style=\"text-align: right;\">\n",
       "      <th></th>\n",
       "      <th>year</th>\n",
       "      <th>state_name</th>\n",
       "      <th>county_name</th>\n",
       "      <th>Value</th>\n",
       "    </tr>\n",
       "  </thead>\n",
       "  <tbody>\n",
       "    <tr>\n",
       "      <th>0</th>\n",
       "      <td>2019</td>\n",
       "      <td>ALABAMA</td>\n",
       "      <td>OTHER (COMBINED) COUNTIES</td>\n",
       "      <td>920000</td>\n",
       "    </tr>\n",
       "    <tr>\n",
       "      <th>1</th>\n",
       "      <td>2018</td>\n",
       "      <td>ALABAMA</td>\n",
       "      <td>OTHER (COMBINED) COUNTIES</td>\n",
       "      <td>322000</td>\n",
       "    </tr>\n",
       "    <tr>\n",
       "      <th>2</th>\n",
       "      <td>2017</td>\n",
       "      <td>ALABAMA</td>\n",
       "      <td>OTHER (COMBINED) COUNTIES</td>\n",
       "      <td>254000</td>\n",
       "    </tr>\n",
       "    <tr>\n",
       "      <th>3</th>\n",
       "      <td>2016</td>\n",
       "      <td>ALABAMA</td>\n",
       "      <td>OTHER (COMBINED) COUNTIES</td>\n",
       "      <td>192000</td>\n",
       "    </tr>\n",
       "    <tr>\n",
       "      <th>4</th>\n",
       "      <td>2015</td>\n",
       "      <td>ALABAMA</td>\n",
       "      <td>OTHER (COMBINED) COUNTIES</td>\n",
       "      <td>990000</td>\n",
       "    </tr>\n",
       "  </tbody>\n",
       "</table>\n",
       "</div>"
      ],
      "text/plain": [
       "   year state_name                county_name   Value\n",
       "0  2019    ALABAMA  OTHER (COMBINED) COUNTIES  920000\n",
       "1  2018    ALABAMA  OTHER (COMBINED) COUNTIES  322000\n",
       "2  2017    ALABAMA  OTHER (COMBINED) COUNTIES  254000\n",
       "3  2016    ALABAMA  OTHER (COMBINED) COUNTIES  192000\n",
       "4  2015    ALABAMA  OTHER (COMBINED) COUNTIES  990000"
      ]
     },
     "execution_count": 117,
     "metadata": {},
     "output_type": "execute_result"
    }
   ],
   "source": [
    "df.head()"
   ]
  },
  {
   "cell_type": "markdown",
   "metadata": {},
   "source": [
    "Now that we have all the corn production data by county for all of the states,\n",
    "let's further prune this for the counties in the state's that we want."
   ]
  },
  {
   "cell_type": "code",
   "execution_count": 118,
   "metadata": {},
   "outputs": [],
   "source": [
    "corn_belt_states = set([\n",
    "    \"MINNESOTA\",\n",
    "    \"SOUTH DAKOTA\",\n",
    "    \"NEBRASKA\",\n",
    "    \"KANSAS\",\n",
    "    \"IOWA\",\n",
    "    \"WISCONSIN\",\n",
    "    \"ILLINOIS\",\n",
    "    \"MISSOURI\",\n",
    "    \"INDIANA\",\n",
    "    \"OHIO\"\n",
    "])\n",
    "\n",
    "df_corn = df[df[\"state_name\"].isin(set(corn_belt_states))].reset_index(drop=True)"
   ]
  },
  {
   "cell_type": "code",
   "execution_count": 126,
   "metadata": {},
   "outputs": [
    {
     "name": "stdout",
     "output_type": "stream",
     "text": [
      "['ILLINOIS' 'INDIANA' 'IOWA' 'KANSAS' 'MINNESOTA' 'MISSOURI' 'NEBRASKA'\n",
      " 'OHIO' 'SOUTH DAKOTA' 'WISCONSIN']\n",
      "568\n",
      "9\n"
     ]
    }
   ],
   "source": [
    "print(df_corn['state_name'].unique())\n",
    "print(len(df_corn['county_name'].unique()))\n",
    "print(len(df_corn['year'].unique()))"
   ]
  },
  {
   "cell_type": "code",
   "execution_count": 151,
   "metadata": {},
   "outputs": [
    {
     "data": {
      "text/html": [
       "<div>\n",
       "<style scoped>\n",
       "    .dataframe tbody tr th:only-of-type {\n",
       "        vertical-align: middle;\n",
       "    }\n",
       "\n",
       "    .dataframe tbody tr th {\n",
       "        vertical-align: top;\n",
       "    }\n",
       "\n",
       "    .dataframe thead th {\n",
       "        text-align: right;\n",
       "    }\n",
       "</style>\n",
       "<table border=\"1\" class=\"dataframe\">\n",
       "  <thead>\n",
       "    <tr style=\"text-align: right;\">\n",
       "      <th></th>\n",
       "      <th>county_name</th>\n",
       "      <th>count</th>\n",
       "    </tr>\n",
       "  </thead>\n",
       "  <tbody>\n",
       "    <tr>\n",
       "      <th>372</th>\n",
       "      <td>OTHER (COMBINED) COUNTIES</td>\n",
       "      <td>349</td>\n",
       "    </tr>\n",
       "    <tr>\n",
       "      <th>236</th>\n",
       "      <td>JEFFERSON</td>\n",
       "      <td>67</td>\n",
       "    </tr>\n",
       "    <tr>\n",
       "      <th>536</th>\n",
       "      <td>WASHINGTON</td>\n",
       "      <td>67</td>\n",
       "    </tr>\n",
       "    <tr>\n",
       "      <th>233</th>\n",
       "      <td>JACKSON</td>\n",
       "      <td>67</td>\n",
       "    </tr>\n",
       "    <tr>\n",
       "      <th>83</th>\n",
       "      <td>CLAY</td>\n",
       "      <td>61</td>\n",
       "    </tr>\n",
       "    <tr>\n",
       "      <th>...</th>\n",
       "      <td>...</td>\n",
       "      <td>...</td>\n",
       "    </tr>\n",
       "    <tr>\n",
       "      <th>442</th>\n",
       "      <td>RUSSELL</td>\n",
       "      <td>1</td>\n",
       "    </tr>\n",
       "    <tr>\n",
       "      <th>480</th>\n",
       "      <td>STANLEY</td>\n",
       "      <td>1</td>\n",
       "    </tr>\n",
       "    <tr>\n",
       "      <th>494</th>\n",
       "      <td>SUMMIT</td>\n",
       "      <td>1</td>\n",
       "    </tr>\n",
       "    <tr>\n",
       "      <th>263</th>\n",
       "      <td>KOOCHICHING</td>\n",
       "      <td>1</td>\n",
       "    </tr>\n",
       "    <tr>\n",
       "      <th>220</th>\n",
       "      <td>HOWELL</td>\n",
       "      <td>1</td>\n",
       "    </tr>\n",
       "  </tbody>\n",
       "</table>\n",
       "<p>568 rows × 2 columns</p>\n",
       "</div>"
      ],
      "text/plain": [
       "                   county_name  count\n",
       "372  OTHER (COMBINED) COUNTIES    349\n",
       "236                  JEFFERSON     67\n",
       "536                 WASHINGTON     67\n",
       "233                    JACKSON     67\n",
       "83                        CLAY     61\n",
       "..                         ...    ...\n",
       "442                    RUSSELL      1\n",
       "480                    STANLEY      1\n",
       "494                     SUMMIT      1\n",
       "263                KOOCHICHING      1\n",
       "220                     HOWELL      1\n",
       "\n",
       "[568 rows x 2 columns]"
      ]
     },
     "execution_count": 151,
     "metadata": {},
     "output_type": "execute_result"
    }
   ],
   "source": [
    "df_corn.groupby(by=['county_name']).agg({'county_name': 'count'}).rename(columns={\"county_name\": \"count\"}).reset_index().sort_values(\"count\", ascending=False)"
   ]
  },
  {
   "cell_type": "markdown",
   "metadata": {},
   "source": [
    "There appears to be some duplicate counties going on.\n",
    "\n",
    "Other (COMBINED) Counties make sense if multiple states describe extraneous counties with the same name.\n",
    "\n",
    "However, the same case shouldn't exist for other counties, unless any given 2 states simply share a county name despite\n",
    "these 2 counties actually being different."
   ]
  },
  {
   "cell_type": "code",
   "execution_count": 153,
   "metadata": {},
   "outputs": [
    {
     "data": {
      "text/plain": [
       "array(['ILLINOIS', 'INDIANA', 'IOWA', 'KANSAS', 'MINNESOTA', 'MISSOURI',\n",
       "       'NEBRASKA', 'SOUTH DAKOTA'], dtype=object)"
      ]
     },
     "execution_count": 153,
     "metadata": {},
     "output_type": "execute_result"
    }
   ],
   "source": [
    "# Validate these \"duplicate\" counties\n",
    "\n",
    "df_corn[df_corn[\"county_name\"] == \"CLAY\"]['state_name'].unique()"
   ]
  },
  {
   "cell_type": "markdown",
   "metadata": {},
   "source": [
    "That's impressive. By a simple google search, it's pretty easy to validate that \"Clay\" county is a distinct county in all of these states.\n",
    "\n",
    "\n",
    "Now that that's out of the way, we can proceed with trust in our data."
   ]
  },
  {
   "cell_type": "markdown",
   "metadata": {},
   "source": [
    "Currently, these values are in terms of bushels. Let's convert it to (1000 metric tons)."
   ]
  },
  {
   "cell_type": "code",
   "execution_count": 120,
   "metadata": {},
   "outputs": [],
   "source": [
    "df_corn[\"Value\"] = df_corn[\"Value\"]/39.3679/1000"
   ]
  },
  {
   "cell_type": "code",
   "execution_count": 163,
   "metadata": {},
   "outputs": [
    {
     "data": {
      "text/html": [
       "<div>\n",
       "<style scoped>\n",
       "    .dataframe tbody tr th:only-of-type {\n",
       "        vertical-align: middle;\n",
       "    }\n",
       "\n",
       "    .dataframe tbody tr th {\n",
       "        vertical-align: top;\n",
       "    }\n",
       "\n",
       "    .dataframe thead th {\n",
       "        text-align: right;\n",
       "    }\n",
       "</style>\n",
       "<table border=\"1\" class=\"dataframe\">\n",
       "  <thead>\n",
       "    <tr style=\"text-align: right;\">\n",
       "      <th></th>\n",
       "      <th>state_name</th>\n",
       "      <th>count</th>\n",
       "      <th>total</th>\n",
       "    </tr>\n",
       "  </thead>\n",
       "  <tbody>\n",
       "    <tr>\n",
       "      <th>0</th>\n",
       "      <td>ILLINOIS</td>\n",
       "      <td>841</td>\n",
       "      <td>491402.894236</td>\n",
       "    </tr>\n",
       "    <tr>\n",
       "      <th>1</th>\n",
       "      <td>INDIANA</td>\n",
       "      <td>758</td>\n",
       "      <td>218773.162907</td>\n",
       "    </tr>\n",
       "    <tr>\n",
       "      <th>2</th>\n",
       "      <td>IOWA</td>\n",
       "      <td>859</td>\n",
       "      <td>565891.246422</td>\n",
       "    </tr>\n",
       "    <tr>\n",
       "      <th>3</th>\n",
       "      <td>KANSAS</td>\n",
       "      <td>685</td>\n",
       "      <td>152295.652041</td>\n",
       "    </tr>\n",
       "    <tr>\n",
       "      <th>4</th>\n",
       "      <td>MINNESOTA</td>\n",
       "      <td>657</td>\n",
       "      <td>313846.738078</td>\n",
       "    </tr>\n",
       "    <tr>\n",
       "      <th>5</th>\n",
       "      <td>MISSOURI</td>\n",
       "      <td>641</td>\n",
       "      <td>118461.233645</td>\n",
       "    </tr>\n",
       "    <tr>\n",
       "      <th>6</th>\n",
       "      <td>NEBRASKA</td>\n",
       "      <td>704</td>\n",
       "      <td>393666.159485</td>\n",
       "    </tr>\n",
       "    <tr>\n",
       "      <th>7</th>\n",
       "      <td>OHIO</td>\n",
       "      <td>733</td>\n",
       "      <td>129338.115571</td>\n",
       "    </tr>\n",
       "    <tr>\n",
       "      <th>8</th>\n",
       "      <td>SOUTH DAKOTA</td>\n",
       "      <td>453</td>\n",
       "      <td>170482.956927</td>\n",
       "    </tr>\n",
       "    <tr>\n",
       "      <th>9</th>\n",
       "      <td>WISCONSIN</td>\n",
       "      <td>556</td>\n",
       "      <td>115374.200808</td>\n",
       "    </tr>\n",
       "  </tbody>\n",
       "</table>\n",
       "</div>"
      ],
      "text/plain": [
       "     state_name  count          total\n",
       "0      ILLINOIS    841  491402.894236\n",
       "1       INDIANA    758  218773.162907\n",
       "2          IOWA    859  565891.246422\n",
       "3        KANSAS    685  152295.652041\n",
       "4     MINNESOTA    657  313846.738078\n",
       "5      MISSOURI    641  118461.233645\n",
       "6      NEBRASKA    704  393666.159485\n",
       "7          OHIO    733  129338.115571\n",
       "8  SOUTH DAKOTA    453  170482.956927\n",
       "9     WISCONSIN    556  115374.200808"
      ]
     },
     "execution_count": 163,
     "metadata": {},
     "output_type": "execute_result"
    }
   ],
   "source": [
    "df_dist = df_corn.groupby('state_name').agg(count=('Value', 'count'), total=('Value', 'sum')).reset_index()\n",
    "df_dist"
   ]
  },
  {
   "cell_type": "code",
   "execution_count": 164,
   "metadata": {},
   "outputs": [
    {
     "data": {
      "text/html": [
       "<div>\n",
       "<style scoped>\n",
       "    .dataframe tbody tr th:only-of-type {\n",
       "        vertical-align: middle;\n",
       "    }\n",
       "\n",
       "    .dataframe tbody tr th {\n",
       "        vertical-align: top;\n",
       "    }\n",
       "\n",
       "    .dataframe thead th {\n",
       "        text-align: right;\n",
       "    }\n",
       "</style>\n",
       "<table border=\"1\" class=\"dataframe\">\n",
       "  <thead>\n",
       "    <tr style=\"text-align: right;\">\n",
       "      <th></th>\n",
       "      <th>state_name</th>\n",
       "      <th>count</th>\n",
       "      <th>total</th>\n",
       "      <th>percentage</th>\n",
       "    </tr>\n",
       "  </thead>\n",
       "  <tbody>\n",
       "    <tr>\n",
       "      <th>0</th>\n",
       "      <td>ILLINOIS</td>\n",
       "      <td>841</td>\n",
       "      <td>491402.894236</td>\n",
       "      <td>0.18</td>\n",
       "    </tr>\n",
       "    <tr>\n",
       "      <th>1</th>\n",
       "      <td>INDIANA</td>\n",
       "      <td>758</td>\n",
       "      <td>218773.162907</td>\n",
       "      <td>0.08</td>\n",
       "    </tr>\n",
       "    <tr>\n",
       "      <th>2</th>\n",
       "      <td>IOWA</td>\n",
       "      <td>859</td>\n",
       "      <td>565891.246422</td>\n",
       "      <td>0.21</td>\n",
       "    </tr>\n",
       "    <tr>\n",
       "      <th>3</th>\n",
       "      <td>KANSAS</td>\n",
       "      <td>685</td>\n",
       "      <td>152295.652041</td>\n",
       "      <td>0.06</td>\n",
       "    </tr>\n",
       "    <tr>\n",
       "      <th>4</th>\n",
       "      <td>MINNESOTA</td>\n",
       "      <td>657</td>\n",
       "      <td>313846.738078</td>\n",
       "      <td>0.12</td>\n",
       "    </tr>\n",
       "    <tr>\n",
       "      <th>5</th>\n",
       "      <td>MISSOURI</td>\n",
       "      <td>641</td>\n",
       "      <td>118461.233645</td>\n",
       "      <td>0.04</td>\n",
       "    </tr>\n",
       "    <tr>\n",
       "      <th>6</th>\n",
       "      <td>NEBRASKA</td>\n",
       "      <td>704</td>\n",
       "      <td>393666.159485</td>\n",
       "      <td>0.15</td>\n",
       "    </tr>\n",
       "    <tr>\n",
       "      <th>7</th>\n",
       "      <td>OHIO</td>\n",
       "      <td>733</td>\n",
       "      <td>129338.115571</td>\n",
       "      <td>0.05</td>\n",
       "    </tr>\n",
       "    <tr>\n",
       "      <th>8</th>\n",
       "      <td>SOUTH DAKOTA</td>\n",
       "      <td>453</td>\n",
       "      <td>170482.956927</td>\n",
       "      <td>0.06</td>\n",
       "    </tr>\n",
       "    <tr>\n",
       "      <th>9</th>\n",
       "      <td>WISCONSIN</td>\n",
       "      <td>556</td>\n",
       "      <td>115374.200808</td>\n",
       "      <td>0.04</td>\n",
       "    </tr>\n",
       "  </tbody>\n",
       "</table>\n",
       "</div>"
      ],
      "text/plain": [
       "     state_name  count          total  percentage\n",
       "0      ILLINOIS    841  491402.894236        0.18\n",
       "1       INDIANA    758  218773.162907        0.08\n",
       "2          IOWA    859  565891.246422        0.21\n",
       "3        KANSAS    685  152295.652041        0.06\n",
       "4     MINNESOTA    657  313846.738078        0.12\n",
       "5      MISSOURI    641  118461.233645        0.04\n",
       "6      NEBRASKA    704  393666.159485        0.15\n",
       "7          OHIO    733  129338.115571        0.05\n",
       "8  SOUTH DAKOTA    453  170482.956927        0.06\n",
       "9     WISCONSIN    556  115374.200808        0.04"
      ]
     },
     "execution_count": 164,
     "metadata": {},
     "output_type": "execute_result"
    }
   ],
   "source": [
    "df_dist['percentage'] = round(df_dist['total']/sum(df_dist['total']), 2)\n",
    "df_dist"
   ]
  },
  {
   "cell_type": "code",
   "execution_count": 166,
   "metadata": {},
   "outputs": [
    {
     "data": {
      "text/plain": [
       "count     6887.000000\n",
       "mean       387.619045\n",
       "std        446.986319\n",
       "min          0.254014\n",
       "25%        120.428064\n",
       "50%        299.457172\n",
       "75%        563.987411\n",
       "max      19878.454274\n",
       "Name: Value, dtype: float64"
      ]
     },
     "execution_count": 166,
     "metadata": {},
     "output_type": "execute_result"
    }
   ],
   "source": [
    "df_corn[\"Value\"].describe()"
   ]
  },
  {
   "cell_type": "markdown",
   "metadata": {},
   "source": [
    "It's clear that we have a pretty representative data set of corn production for all the states in the United States corn belt.\n",
    "\n",
    "Let's save the dataset as a csv and get the rest of our data."
   ]
  },
  {
   "cell_type": "code",
   "execution_count": 168,
   "metadata": {},
   "outputs": [],
   "source": [
    "df_corn.to_csv(\"../data/crop_data.csv\", index=False)"
   ]
  }
 ],
 "metadata": {
  "kernelspec": {
   "display_name": "Python 3.10.8 ('env': venv)",
   "language": "python",
   "name": "python3"
  },
  "language_info": {
   "codemirror_mode": {
    "name": "ipython",
    "version": 3
   },
   "file_extension": ".py",
   "mimetype": "text/x-python",
   "name": "python",
   "nbconvert_exporter": "python",
   "pygments_lexer": "ipython3",
   "version": "3.10.8"
  },
  "orig_nbformat": 4,
  "vscode": {
   "interpreter": {
    "hash": "f6f75a37e9297c3266a959ebae3bbbd58c34cfa4f12da886c905f1cb20fc77e5"
   }
  }
 },
 "nbformat": 4,
 "nbformat_minor": 2
}
