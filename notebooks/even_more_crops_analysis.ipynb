{
 "cells": [
  {
   "cell_type": "code",
   "execution_count": 24,
   "metadata": {},
   "outputs": [],
   "source": [
    "import pandas as pd\n",
    "import requests\n",
    "import io"
   ]
  },
  {
   "cell_type": "code",
   "execution_count": 25,
   "metadata": {},
   "outputs": [],
   "source": [
    "API_KEY = \"861E6E6E-6BD2-3C50-8731-82E4EC90A5E3\"\n"
   ]
  },
  {
   "cell_type": "code",
   "execution_count": 26,
   "metadata": {},
   "outputs": [],
   "source": [
    "# API Documentation at https://quickstats.nass.usda.gov/api/\n",
    "\n",
    "params = {\n",
    "    \"source_desc\": \"SURVEY\",\n",
    "    \"sector_desc\": \"CROPS\",\n",
    "    \"group_desc\": \"FIELD CROPS\",\n",
    "    \"commodity_desc\": \"CORN\",\n",
    "    \"statisticcat_desc\": \"YIELD\",\n",
    "    \"short_desc\": \"CORN, GRAIN - YIELD, MEASURED IN BU / ACRE\",\n",
    "    \"domain_desc\": \"TOTAL\",\n",
    "    \"agg_level_desc\": \"COUNTY\",\n",
    "    \"year__GE\": \"2013\"\n",
    "}\n",
    "\n",
    "query = \"&\".join([f\"{key}={val}\" for key, val in params.items()])\n",
    "\n",
    "URL = f\"https://quickstats.nass.usda.gov/api/api_GET/?key={API_KEY}&{query}&format=CSV\"\n",
    "headers = {'User-Agent': ''} # NEEDED BECAUSE USDA BLOCKS 'non-browser' traffic\n"
   ]
  },
  {
   "cell_type": "code",
   "execution_count": 27,
   "metadata": {},
   "outputs": [],
   "source": [
    "response = requests.get(URL,headers = {'User-Agent': ''})"
   ]
  },
  {
   "cell_type": "code",
   "execution_count": 28,
   "metadata": {},
   "outputs": [],
   "source": [
    "df = pd.read_csv(io.StringIO(response.content.decode(\"UTF-8\")), thousands=\",\")"
   ]
  },
  {
   "cell_type": "code",
   "execution_count": 29,
   "metadata": {},
   "outputs": [
    {
     "name": "stdout",
     "output_type": "stream",
     "text": [
      "14524\n",
      "Index(['source_desc', 'sector_desc', 'group_desc', 'commodity_desc',\n",
      "       'class_desc', 'prodn_practice_desc', 'util_practice_desc',\n",
      "       'statisticcat_desc', 'unit_desc', 'short_desc', 'domain_desc',\n",
      "       'domaincat_desc', 'agg_level_desc', 'state_ansi', 'state_fips_code',\n",
      "       'state_alpha', 'state_name', 'asd_code', 'asd_desc', 'county_ansi',\n",
      "       'county_code', 'county_name', 'region_desc', 'zip_5', 'watershed_code',\n",
      "       'watershed_desc', 'congr_district_code', 'country_code', 'country_name',\n",
      "       'location_desc', 'year', 'freq_desc', 'begin_code', 'end_code',\n",
      "       'reference_period_desc', 'week_ending', 'load_time', 'Value', 'CV (%)'],\n",
      "      dtype='object')\n"
     ]
    }
   ],
   "source": [
    "print(len(df))\n",
    "print(df.columns)"
   ]
  },
  {
   "cell_type": "markdown",
   "metadata": {},
   "source": [
    "That's a lot of columns. Let's keep the ones we care about."
   ]
  },
  {
   "cell_type": "code",
   "execution_count": 30,
   "metadata": {},
   "outputs": [],
   "source": [
    "columnsToKeep = [\"year\", \"state_name\", 'county_name', \"Value\"]\n",
    "df = df[columnsToKeep]"
   ]
  },
  {
   "cell_type": "code",
   "execution_count": 31,
   "metadata": {},
   "outputs": [
    {
     "data": {
      "text/html": [
       "<div>\n",
       "<style scoped>\n",
       "    .dataframe tbody tr th:only-of-type {\n",
       "        vertical-align: middle;\n",
       "    }\n",
       "\n",
       "    .dataframe tbody tr th {\n",
       "        vertical-align: top;\n",
       "    }\n",
       "\n",
       "    .dataframe thead th {\n",
       "        text-align: right;\n",
       "    }\n",
       "</style>\n",
       "<table border=\"1\" class=\"dataframe\">\n",
       "  <thead>\n",
       "    <tr style=\"text-align: right;\">\n",
       "      <th></th>\n",
       "      <th>year</th>\n",
       "      <th>state_name</th>\n",
       "      <th>county_name</th>\n",
       "      <th>Value</th>\n",
       "    </tr>\n",
       "  </thead>\n",
       "  <tbody>\n",
       "    <tr>\n",
       "      <th>0</th>\n",
       "      <td>2019</td>\n",
       "      <td>ALABAMA</td>\n",
       "      <td>OTHER (COMBINED) COUNTIES</td>\n",
       "      <td>129.6</td>\n",
       "    </tr>\n",
       "    <tr>\n",
       "      <th>1</th>\n",
       "      <td>2018</td>\n",
       "      <td>ALABAMA</td>\n",
       "      <td>OTHER (COMBINED) COUNTIES</td>\n",
       "      <td>146.4</td>\n",
       "    </tr>\n",
       "    <tr>\n",
       "      <th>2</th>\n",
       "      <td>2017</td>\n",
       "      <td>ALABAMA</td>\n",
       "      <td>OTHER (COMBINED) COUNTIES</td>\n",
       "      <td>169.3</td>\n",
       "    </tr>\n",
       "    <tr>\n",
       "      <th>3</th>\n",
       "      <td>2016</td>\n",
       "      <td>ALABAMA</td>\n",
       "      <td>OTHER (COMBINED) COUNTIES</td>\n",
       "      <td>103.8</td>\n",
       "    </tr>\n",
       "    <tr>\n",
       "      <th>4</th>\n",
       "      <td>2015</td>\n",
       "      <td>ALABAMA</td>\n",
       "      <td>OTHER (COMBINED) COUNTIES</td>\n",
       "      <td>135.6</td>\n",
       "    </tr>\n",
       "  </tbody>\n",
       "</table>\n",
       "</div>"
      ],
      "text/plain": [
       "   year state_name                county_name  Value\n",
       "0  2019    ALABAMA  OTHER (COMBINED) COUNTIES  129.6\n",
       "1  2018    ALABAMA  OTHER (COMBINED) COUNTIES  146.4\n",
       "2  2017    ALABAMA  OTHER (COMBINED) COUNTIES  169.3\n",
       "3  2016    ALABAMA  OTHER (COMBINED) COUNTIES  103.8\n",
       "4  2015    ALABAMA  OTHER (COMBINED) COUNTIES  135.6"
      ]
     },
     "execution_count": 31,
     "metadata": {},
     "output_type": "execute_result"
    }
   ],
   "source": [
    "df.head()"
   ]
  },
  {
   "cell_type": "markdown",
   "metadata": {},
   "source": [
    "Now that we have all the corn production data by county for all of the states,\n",
    "let's further prune this for the counties in the state's that we want."
   ]
  },
  {
   "cell_type": "code",
   "execution_count": 32,
   "metadata": {},
   "outputs": [],
   "source": [
    "corn_belt_states = set([\n",
    "    \"MINNESOTA\",\n",
    "    \"SOUTH DAKOTA\",\n",
    "    \"NEBRASKA\",\n",
    "    \"KANSAS\",\n",
    "    \"IOWA\",\n",
    "    \"WISCONSIN\",\n",
    "    \"ILLINOIS\",\n",
    "    \"MISSOURI\",\n",
    "    \"INDIANA\",\n",
    "    \"OHIO\"\n",
    "])\n",
    "\n",
    "df_corn = df[df[\"state_name\"].isin(set(corn_belt_states))].reset_index(drop=True)"
   ]
  },
  {
   "cell_type": "code",
   "execution_count": 33,
   "metadata": {},
   "outputs": [
    {
     "name": "stdout",
     "output_type": "stream",
     "text": [
      "['ILLINOIS' 'INDIANA' 'IOWA' 'KANSAS' 'MINNESOTA' 'MISSOURI' 'NEBRASKA'\n",
      " 'OHIO' 'SOUTH DAKOTA' 'WISCONSIN']\n",
      "568\n",
      "9\n"
     ]
    }
   ],
   "source": [
    "print(df_corn['state_name'].unique())\n",
    "print(len(df_corn['county_name'].unique()))\n",
    "print(len(df_corn['year'].unique()))"
   ]
  },
  {
   "cell_type": "code",
   "execution_count": 34,
   "metadata": {},
   "outputs": [
    {
     "data": {
      "text/html": [
       "<div>\n",
       "<style scoped>\n",
       "    .dataframe tbody tr th:only-of-type {\n",
       "        vertical-align: middle;\n",
       "    }\n",
       "\n",
       "    .dataframe tbody tr th {\n",
       "        vertical-align: top;\n",
       "    }\n",
       "\n",
       "    .dataframe thead th {\n",
       "        text-align: right;\n",
       "    }\n",
       "</style>\n",
       "<table border=\"1\" class=\"dataframe\">\n",
       "  <thead>\n",
       "    <tr style=\"text-align: right;\">\n",
       "      <th></th>\n",
       "      <th>county_name</th>\n",
       "      <th>count</th>\n",
       "    </tr>\n",
       "  </thead>\n",
       "  <tbody>\n",
       "    <tr>\n",
       "      <th>372</th>\n",
       "      <td>OTHER (COMBINED) COUNTIES</td>\n",
       "      <td>349</td>\n",
       "    </tr>\n",
       "    <tr>\n",
       "      <th>236</th>\n",
       "      <td>JEFFERSON</td>\n",
       "      <td>67</td>\n",
       "    </tr>\n",
       "    <tr>\n",
       "      <th>536</th>\n",
       "      <td>WASHINGTON</td>\n",
       "      <td>67</td>\n",
       "    </tr>\n",
       "    <tr>\n",
       "      <th>233</th>\n",
       "      <td>JACKSON</td>\n",
       "      <td>67</td>\n",
       "    </tr>\n",
       "    <tr>\n",
       "      <th>83</th>\n",
       "      <td>CLAY</td>\n",
       "      <td>61</td>\n",
       "    </tr>\n",
       "    <tr>\n",
       "      <th>...</th>\n",
       "      <td>...</td>\n",
       "      <td>...</td>\n",
       "    </tr>\n",
       "    <tr>\n",
       "      <th>442</th>\n",
       "      <td>RUSSELL</td>\n",
       "      <td>1</td>\n",
       "    </tr>\n",
       "    <tr>\n",
       "      <th>480</th>\n",
       "      <td>STANLEY</td>\n",
       "      <td>1</td>\n",
       "    </tr>\n",
       "    <tr>\n",
       "      <th>494</th>\n",
       "      <td>SUMMIT</td>\n",
       "      <td>1</td>\n",
       "    </tr>\n",
       "    <tr>\n",
       "      <th>263</th>\n",
       "      <td>KOOCHICHING</td>\n",
       "      <td>1</td>\n",
       "    </tr>\n",
       "    <tr>\n",
       "      <th>220</th>\n",
       "      <td>HOWELL</td>\n",
       "      <td>1</td>\n",
       "    </tr>\n",
       "  </tbody>\n",
       "</table>\n",
       "<p>568 rows × 2 columns</p>\n",
       "</div>"
      ],
      "text/plain": [
       "                   county_name  count\n",
       "372  OTHER (COMBINED) COUNTIES    349\n",
       "236                  JEFFERSON     67\n",
       "536                 WASHINGTON     67\n",
       "233                    JACKSON     67\n",
       "83                        CLAY     61\n",
       "..                         ...    ...\n",
       "442                    RUSSELL      1\n",
       "480                    STANLEY      1\n",
       "494                     SUMMIT      1\n",
       "263                KOOCHICHING      1\n",
       "220                     HOWELL      1\n",
       "\n",
       "[568 rows x 2 columns]"
      ]
     },
     "execution_count": 34,
     "metadata": {},
     "output_type": "execute_result"
    }
   ],
   "source": [
    "df_corn.groupby(by=['county_name']).agg({'county_name': 'count'}).rename(columns={\"county_name\": \"count\"}).reset_index().sort_values(\"count\", ascending=False)"
   ]
  },
  {
   "cell_type": "markdown",
   "metadata": {},
   "source": [
    "There appears to be some duplicate counties going on.\n",
    "\n",
    "Other (COMBINED) Counties make sense if multiple states describe extraneous counties with the same name.\n",
    "\n",
    "However, the same case shouldn't exist for other counties, unless any given 2 states simply share a county name despite\n",
    "these 2 counties actually being different."
   ]
  },
  {
   "cell_type": "code",
   "execution_count": 35,
   "metadata": {},
   "outputs": [
    {
     "data": {
      "text/plain": [
       "array(['ILLINOIS', 'INDIANA', 'IOWA', 'KANSAS', 'MINNESOTA', 'MISSOURI',\n",
       "       'NEBRASKA', 'SOUTH DAKOTA'], dtype=object)"
      ]
     },
     "execution_count": 35,
     "metadata": {},
     "output_type": "execute_result"
    }
   ],
   "source": [
    "# Validate these \"duplicate\" counties\n",
    "\n",
    "df_corn[df_corn[\"county_name\"] == \"CLAY\"]['state_name'].unique()"
   ]
  },
  {
   "cell_type": "markdown",
   "metadata": {},
   "source": [
    "That's impressive. By a simple google search, it's pretty easy to validate that \"Clay\" county is a distinct county in all of these states.\n",
    "\n",
    "\n",
    "Now that that's out of the way, we can proceed with trust in our data."
   ]
  },
  {
   "cell_type": "markdown",
   "metadata": {},
   "source": [
    "Currently, these values are in terms of bushels/acre. Let's convert it to metric tons/acre."
   ]
  },
  {
   "cell_type": "code",
   "execution_count": 36,
   "metadata": {},
   "outputs": [],
   "source": [
    "df_corn[\"Value\"] = df_corn[\"Value\"]/39.3679"
   ]
  },
  {
   "cell_type": "code",
   "execution_count": 37,
   "metadata": {},
   "outputs": [
    {
     "data": {
      "text/html": [
       "<div>\n",
       "<style scoped>\n",
       "    .dataframe tbody tr th:only-of-type {\n",
       "        vertical-align: middle;\n",
       "    }\n",
       "\n",
       "    .dataframe tbody tr th {\n",
       "        vertical-align: top;\n",
       "    }\n",
       "\n",
       "    .dataframe thead th {\n",
       "        text-align: right;\n",
       "    }\n",
       "</style>\n",
       "<table border=\"1\" class=\"dataframe\">\n",
       "  <thead>\n",
       "    <tr style=\"text-align: right;\">\n",
       "      <th></th>\n",
       "      <th>state_name</th>\n",
       "      <th>count</th>\n",
       "      <th>total</th>\n",
       "    </tr>\n",
       "  </thead>\n",
       "  <tbody>\n",
       "    <tr>\n",
       "      <th>0</th>\n",
       "      <td>ILLINOIS</td>\n",
       "      <td>841</td>\n",
       "      <td>3981.746550</td>\n",
       "    </tr>\n",
       "    <tr>\n",
       "      <th>1</th>\n",
       "      <td>INDIANA</td>\n",
       "      <td>758</td>\n",
       "      <td>3385.387587</td>\n",
       "    </tr>\n",
       "    <tr>\n",
       "      <th>2</th>\n",
       "      <td>IOWA</td>\n",
       "      <td>859</td>\n",
       "      <td>4082.917809</td>\n",
       "    </tr>\n",
       "    <tr>\n",
       "      <th>3</th>\n",
       "      <td>KANSAS</td>\n",
       "      <td>685</td>\n",
       "      <td>2289.591266</td>\n",
       "    </tr>\n",
       "    <tr>\n",
       "      <th>4</th>\n",
       "      <td>MINNESOTA</td>\n",
       "      <td>657</td>\n",
       "      <td>2821.407797</td>\n",
       "    </tr>\n",
       "    <tr>\n",
       "      <th>5</th>\n",
       "      <td>MISSOURI</td>\n",
       "      <td>641</td>\n",
       "      <td>2458.147374</td>\n",
       "    </tr>\n",
       "    <tr>\n",
       "      <th>6</th>\n",
       "      <td>NEBRASKA</td>\n",
       "      <td>704</td>\n",
       "      <td>3158.878172</td>\n",
       "    </tr>\n",
       "    <tr>\n",
       "      <th>7</th>\n",
       "      <td>OHIO</td>\n",
       "      <td>733</td>\n",
       "      <td>3075.858758</td>\n",
       "    </tr>\n",
       "    <tr>\n",
       "      <th>8</th>\n",
       "      <td>SOUTH DAKOTA</td>\n",
       "      <td>453</td>\n",
       "      <td>1594.090617</td>\n",
       "    </tr>\n",
       "    <tr>\n",
       "      <th>9</th>\n",
       "      <td>WISCONSIN</td>\n",
       "      <td>556</td>\n",
       "      <td>2232.267914</td>\n",
       "    </tr>\n",
       "  </tbody>\n",
       "</table>\n",
       "</div>"
      ],
      "text/plain": [
       "     state_name  count        total\n",
       "0      ILLINOIS    841  3981.746550\n",
       "1       INDIANA    758  3385.387587\n",
       "2          IOWA    859  4082.917809\n",
       "3        KANSAS    685  2289.591266\n",
       "4     MINNESOTA    657  2821.407797\n",
       "5      MISSOURI    641  2458.147374\n",
       "6      NEBRASKA    704  3158.878172\n",
       "7          OHIO    733  3075.858758\n",
       "8  SOUTH DAKOTA    453  1594.090617\n",
       "9     WISCONSIN    556  2232.267914"
      ]
     },
     "execution_count": 37,
     "metadata": {},
     "output_type": "execute_result"
    }
   ],
   "source": [
    "df_dist = df_corn.groupby('state_name').agg(count=('Value', 'count'), total=('Value', 'sum')).reset_index()\n",
    "df_dist"
   ]
  },
  {
   "cell_type": "code",
   "execution_count": 38,
   "metadata": {},
   "outputs": [
    {
     "data": {
      "text/html": [
       "<div>\n",
       "<style scoped>\n",
       "    .dataframe tbody tr th:only-of-type {\n",
       "        vertical-align: middle;\n",
       "    }\n",
       "\n",
       "    .dataframe tbody tr th {\n",
       "        vertical-align: top;\n",
       "    }\n",
       "\n",
       "    .dataframe thead th {\n",
       "        text-align: right;\n",
       "    }\n",
       "</style>\n",
       "<table border=\"1\" class=\"dataframe\">\n",
       "  <thead>\n",
       "    <tr style=\"text-align: right;\">\n",
       "      <th></th>\n",
       "      <th>state_name</th>\n",
       "      <th>count</th>\n",
       "      <th>total</th>\n",
       "      <th>percentage</th>\n",
       "    </tr>\n",
       "  </thead>\n",
       "  <tbody>\n",
       "    <tr>\n",
       "      <th>0</th>\n",
       "      <td>ILLINOIS</td>\n",
       "      <td>841</td>\n",
       "      <td>3981.746550</td>\n",
       "      <td>0.14</td>\n",
       "    </tr>\n",
       "    <tr>\n",
       "      <th>1</th>\n",
       "      <td>INDIANA</td>\n",
       "      <td>758</td>\n",
       "      <td>3385.387587</td>\n",
       "      <td>0.12</td>\n",
       "    </tr>\n",
       "    <tr>\n",
       "      <th>2</th>\n",
       "      <td>IOWA</td>\n",
       "      <td>859</td>\n",
       "      <td>4082.917809</td>\n",
       "      <td>0.14</td>\n",
       "    </tr>\n",
       "    <tr>\n",
       "      <th>3</th>\n",
       "      <td>KANSAS</td>\n",
       "      <td>685</td>\n",
       "      <td>2289.591266</td>\n",
       "      <td>0.08</td>\n",
       "    </tr>\n",
       "    <tr>\n",
       "      <th>4</th>\n",
       "      <td>MINNESOTA</td>\n",
       "      <td>657</td>\n",
       "      <td>2821.407797</td>\n",
       "      <td>0.10</td>\n",
       "    </tr>\n",
       "    <tr>\n",
       "      <th>5</th>\n",
       "      <td>MISSOURI</td>\n",
       "      <td>641</td>\n",
       "      <td>2458.147374</td>\n",
       "      <td>0.08</td>\n",
       "    </tr>\n",
       "    <tr>\n",
       "      <th>6</th>\n",
       "      <td>NEBRASKA</td>\n",
       "      <td>704</td>\n",
       "      <td>3158.878172</td>\n",
       "      <td>0.11</td>\n",
       "    </tr>\n",
       "    <tr>\n",
       "      <th>7</th>\n",
       "      <td>OHIO</td>\n",
       "      <td>733</td>\n",
       "      <td>3075.858758</td>\n",
       "      <td>0.11</td>\n",
       "    </tr>\n",
       "    <tr>\n",
       "      <th>8</th>\n",
       "      <td>SOUTH DAKOTA</td>\n",
       "      <td>453</td>\n",
       "      <td>1594.090617</td>\n",
       "      <td>0.05</td>\n",
       "    </tr>\n",
       "    <tr>\n",
       "      <th>9</th>\n",
       "      <td>WISCONSIN</td>\n",
       "      <td>556</td>\n",
       "      <td>2232.267914</td>\n",
       "      <td>0.08</td>\n",
       "    </tr>\n",
       "  </tbody>\n",
       "</table>\n",
       "</div>"
      ],
      "text/plain": [
       "     state_name  count        total  percentage\n",
       "0      ILLINOIS    841  3981.746550        0.14\n",
       "1       INDIANA    758  3385.387587        0.12\n",
       "2          IOWA    859  4082.917809        0.14\n",
       "3        KANSAS    685  2289.591266        0.08\n",
       "4     MINNESOTA    657  2821.407797        0.10\n",
       "5      MISSOURI    641  2458.147374        0.08\n",
       "6      NEBRASKA    704  3158.878172        0.11\n",
       "7          OHIO    733  3075.858758        0.11\n",
       "8  SOUTH DAKOTA    453  1594.090617        0.05\n",
       "9     WISCONSIN    556  2232.267914        0.08"
      ]
     },
     "execution_count": 38,
     "metadata": {},
     "output_type": "execute_result"
    }
   ],
   "source": [
    "df_dist['percentage'] = round(df_dist['total']/sum(df_dist['total']), 2)\n",
    "df_dist"
   ]
  },
  {
   "cell_type": "code",
   "execution_count": 39,
   "metadata": {},
   "outputs": [
    {
     "data": {
      "text/plain": [
       "count    6887.000000\n",
       "mean        4.222491\n",
       "std         0.811576\n",
       "min         0.762042\n",
       "25%         3.759408\n",
       "50%         4.338560\n",
       "75%         4.804676\n",
       "max         6.266527\n",
       "Name: Value, dtype: float64"
      ]
     },
     "execution_count": 39,
     "metadata": {},
     "output_type": "execute_result"
    }
   ],
   "source": [
    "df_corn[\"Value\"].describe()"
   ]
  },
  {
   "cell_type": "markdown",
   "metadata": {},
   "source": [
    "It's clear that we have a pretty representative data set of corn yield for all the states in the United States corn belt.\n",
    "\n",
    "Let's save the dataset as a csv and get the rest of our data."
   ]
  },
  {
   "cell_type": "code",
   "execution_count": 40,
   "metadata": {},
   "outputs": [],
   "source": [
    "df_corn.to_csv(\"../data/crop_data_yield.csv\", index=False)"
   ]
  },
  {
   "cell_type": "code",
   "execution_count": 41,
   "metadata": {},
   "outputs": [
    {
     "data": {
      "text/html": [
       "<div>\n",
       "<style scoped>\n",
       "    .dataframe tbody tr th:only-of-type {\n",
       "        vertical-align: middle;\n",
       "    }\n",
       "\n",
       "    .dataframe tbody tr th {\n",
       "        vertical-align: top;\n",
       "    }\n",
       "\n",
       "    .dataframe thead th {\n",
       "        text-align: right;\n",
       "    }\n",
       "</style>\n",
       "<table border=\"1\" class=\"dataframe\">\n",
       "  <thead>\n",
       "    <tr style=\"text-align: right;\">\n",
       "      <th></th>\n",
       "      <th>year</th>\n",
       "      <th>state_name</th>\n",
       "      <th>county_name</th>\n",
       "      <th>Value</th>\n",
       "    </tr>\n",
       "  </thead>\n",
       "  <tbody>\n",
       "    <tr>\n",
       "      <th>0</th>\n",
       "      <td>2019</td>\n",
       "      <td>ILLINOIS</td>\n",
       "      <td>OTHER (COMBINED) COUNTIES</td>\n",
       "      <td>4.427465</td>\n",
       "    </tr>\n",
       "    <tr>\n",
       "      <th>1</th>\n",
       "      <td>2021</td>\n",
       "      <td>ILLINOIS</td>\n",
       "      <td>BUREAU</td>\n",
       "      <td>5.169186</td>\n",
       "    </tr>\n",
       "    <tr>\n",
       "      <th>2</th>\n",
       "      <td>2020</td>\n",
       "      <td>ILLINOIS</td>\n",
       "      <td>BUREAU</td>\n",
       "      <td>5.065040</td>\n",
       "    </tr>\n",
       "    <tr>\n",
       "      <th>3</th>\n",
       "      <td>2019</td>\n",
       "      <td>ILLINOIS</td>\n",
       "      <td>BUREAU</td>\n",
       "      <td>4.569713</td>\n",
       "    </tr>\n",
       "    <tr>\n",
       "      <th>4</th>\n",
       "      <td>2018</td>\n",
       "      <td>ILLINOIS</td>\n",
       "      <td>BUREAU</td>\n",
       "      <td>5.438441</td>\n",
       "    </tr>\n",
       "  </tbody>\n",
       "</table>\n",
       "</div>"
      ],
      "text/plain": [
       "   year state_name                county_name     Value\n",
       "0  2019   ILLINOIS  OTHER (COMBINED) COUNTIES  4.427465\n",
       "1  2021   ILLINOIS                     BUREAU  5.169186\n",
       "2  2020   ILLINOIS                     BUREAU  5.065040\n",
       "3  2019   ILLINOIS                     BUREAU  4.569713\n",
       "4  2018   ILLINOIS                     BUREAU  5.438441"
      ]
     },
     "execution_count": 41,
     "metadata": {},
     "output_type": "execute_result"
    }
   ],
   "source": [
    "df_corn.head()"
   ]
  }
 ],
 "metadata": {
  "kernelspec": {
   "display_name": "Python 3.10.8 ('env': venv)",
   "language": "python",
   "name": "python3"
  },
  "language_info": {
   "codemirror_mode": {
    "name": "ipython",
    "version": 3
   },
   "file_extension": ".py",
   "mimetype": "text/x-python",
   "name": "python",
   "nbconvert_exporter": "python",
   "pygments_lexer": "ipython3",
   "version": "3.10.8"
  },
  "orig_nbformat": 4,
  "vscode": {
   "interpreter": {
    "hash": "f6f75a37e9297c3266a959ebae3bbbd58c34cfa4f12da886c905f1cb20fc77e5"
   }
  }
 },
 "nbformat": 4,
 "nbformat_minor": 2
}
