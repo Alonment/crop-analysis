{
 "cells": [
  {
   "cell_type": "code",
   "execution_count": 84,
   "metadata": {},
   "outputs": [],
   "source": [
    "import pandas as pd\n",
    "import numpy as np\n",
    "import plotly.express as px"
   ]
  },
  {
   "cell_type": "code",
   "execution_count": 85,
   "metadata": {},
   "outputs": [],
   "source": [
    "df_crops = pd.read_csv(\"../data/all_crop_data.csv\")\n",
    "df_corn = df_crops[(df_crops[\"Country_Name\"] == \"United States\") & (df_crops[\"Commodity_Description\"] == \"Corn\")].reset_index(drop=True)"
   ]
  },
  {
   "cell_type": "markdown",
   "metadata": {},
   "source": [
    "We only care about Soybeans, Wheat, Cotton, and Corn. Let's make sure we're only considering those crops before doring any analysis."
   ]
  },
  {
   "cell_type": "code",
   "execution_count": 86,
   "metadata": {},
   "outputs": [
    {
     "data": {
      "text/html": [
       "<div>\n",
       "<style scoped>\n",
       "    .dataframe tbody tr th:only-of-type {\n",
       "        vertical-align: middle;\n",
       "    }\n",
       "\n",
       "    .dataframe tbody tr th {\n",
       "        vertical-align: top;\n",
       "    }\n",
       "\n",
       "    .dataframe thead th {\n",
       "        text-align: right;\n",
       "    }\n",
       "</style>\n",
       "<table border=\"1\" class=\"dataframe\">\n",
       "  <thead>\n",
       "    <tr style=\"text-align: right;\">\n",
       "      <th></th>\n",
       "      <th>Commodity_Code</th>\n",
       "      <th>Commodity_Description</th>\n",
       "      <th>Country_Code</th>\n",
       "      <th>Country_Name</th>\n",
       "      <th>Market_Year</th>\n",
       "      <th>Calendar_Year</th>\n",
       "      <th>Month</th>\n",
       "      <th>Attribute_ID</th>\n",
       "      <th>Attribute_Description</th>\n",
       "      <th>Unit_ID</th>\n",
       "      <th>Unit_Description</th>\n",
       "      <th>Value</th>\n",
       "    </tr>\n",
       "  </thead>\n",
       "  <tbody>\n",
       "    <tr>\n",
       "      <th>0</th>\n",
       "      <td>577400</td>\n",
       "      <td>Almonds, Shelled Basis</td>\n",
       "      <td>AF</td>\n",
       "      <td>Afghanistan</td>\n",
       "      <td>2010</td>\n",
       "      <td>2018</td>\n",
       "      <td>10</td>\n",
       "      <td>20</td>\n",
       "      <td>Beginning Stocks</td>\n",
       "      <td>21</td>\n",
       "      <td>(MT)</td>\n",
       "      <td>0.0</td>\n",
       "    </tr>\n",
       "    <tr>\n",
       "      <th>1</th>\n",
       "      <td>577400</td>\n",
       "      <td>Almonds, Shelled Basis</td>\n",
       "      <td>AF</td>\n",
       "      <td>Afghanistan</td>\n",
       "      <td>2010</td>\n",
       "      <td>2018</td>\n",
       "      <td>10</td>\n",
       "      <td>125</td>\n",
       "      <td>Domestic Consumption</td>\n",
       "      <td>21</td>\n",
       "      <td>(MT)</td>\n",
       "      <td>0.0</td>\n",
       "    </tr>\n",
       "    <tr>\n",
       "      <th>2</th>\n",
       "      <td>577400</td>\n",
       "      <td>Almonds, Shelled Basis</td>\n",
       "      <td>AF</td>\n",
       "      <td>Afghanistan</td>\n",
       "      <td>2010</td>\n",
       "      <td>2018</td>\n",
       "      <td>10</td>\n",
       "      <td>176</td>\n",
       "      <td>Ending Stocks</td>\n",
       "      <td>21</td>\n",
       "      <td>(MT)</td>\n",
       "      <td>0.0</td>\n",
       "    </tr>\n",
       "    <tr>\n",
       "      <th>3</th>\n",
       "      <td>577400</td>\n",
       "      <td>Almonds, Shelled Basis</td>\n",
       "      <td>AF</td>\n",
       "      <td>Afghanistan</td>\n",
       "      <td>2010</td>\n",
       "      <td>2018</td>\n",
       "      <td>10</td>\n",
       "      <td>88</td>\n",
       "      <td>Exports</td>\n",
       "      <td>21</td>\n",
       "      <td>(MT)</td>\n",
       "      <td>0.0</td>\n",
       "    </tr>\n",
       "    <tr>\n",
       "      <th>4</th>\n",
       "      <td>577400</td>\n",
       "      <td>Almonds, Shelled Basis</td>\n",
       "      <td>AF</td>\n",
       "      <td>Afghanistan</td>\n",
       "      <td>2010</td>\n",
       "      <td>2018</td>\n",
       "      <td>10</td>\n",
       "      <td>57</td>\n",
       "      <td>Imports</td>\n",
       "      <td>21</td>\n",
       "      <td>(MT)</td>\n",
       "      <td>0.0</td>\n",
       "    </tr>\n",
       "  </tbody>\n",
       "</table>\n",
       "</div>"
      ],
      "text/plain": [
       "   Commodity_Code   Commodity_Description Country_Code Country_Name  \\\n",
       "0          577400  Almonds, Shelled Basis           AF  Afghanistan   \n",
       "1          577400  Almonds, Shelled Basis           AF  Afghanistan   \n",
       "2          577400  Almonds, Shelled Basis           AF  Afghanistan   \n",
       "3          577400  Almonds, Shelled Basis           AF  Afghanistan   \n",
       "4          577400  Almonds, Shelled Basis           AF  Afghanistan   \n",
       "\n",
       "   Market_Year  Calendar_Year  Month  Attribute_ID Attribute_Description  \\\n",
       "0         2010           2018     10            20      Beginning Stocks   \n",
       "1         2010           2018     10           125  Domestic Consumption   \n",
       "2         2010           2018     10           176         Ending Stocks   \n",
       "3         2010           2018     10            88               Exports   \n",
       "4         2010           2018     10            57               Imports   \n",
       "\n",
       "   Unit_ID Unit_Description  Value  \n",
       "0       21             (MT)    0.0  \n",
       "1       21             (MT)    0.0  \n",
       "2       21             (MT)    0.0  \n",
       "3       21             (MT)    0.0  \n",
       "4       21             (MT)    0.0  "
      ]
     },
     "execution_count": 86,
     "metadata": {},
     "output_type": "execute_result"
    }
   ],
   "source": [
    "df_crops.head()"
   ]
  },
  {
   "cell_type": "code",
   "execution_count": 87,
   "metadata": {},
   "outputs": [
    {
     "data": {
      "text/plain": [
       "array(['Almonds, Shelled Basis', 'Animal Numbers, Cattle',\n",
       "       'Animal Numbers, Swine', 'Apples, Fresh', 'Barley',\n",
       "       'Cherries (Sweet&Sour), Fresh', 'Coffee, Green', 'Corn', 'Cotton',\n",
       "       'Dairy, Butter', 'Dairy, Cheese', 'Dairy, Dry Whole Milk Powder',\n",
       "       'Dairy, Milk, Fluid', 'Dairy, Milk, Nonfat Dry',\n",
       "       'Grapefruit, Fresh', 'Grapes, Fresh Table', 'Lemons/Limes, Fresh',\n",
       "       'Meal, Copra', 'Meal, Cottonseed', 'Meal, Fish',\n",
       "       'Meal, Palm Kernel', 'Meal, Peanut', 'Meal, Rapeseed',\n",
       "       'Meal, Soybean', 'Meal, Soybean (Local)', 'Meal, Sunflowerseed',\n",
       "       'Meat, Beef and Veal', 'Meat, Chicken', 'Meat, Swine', 'Millet',\n",
       "       'Mixed Grain', 'Oats', 'Oil, Coconut', 'Oil, Cottonseed',\n",
       "       'Oil, Olive', 'Oil, Palm', 'Oil, Palm Kernel', 'Oil, Peanut',\n",
       "       'Oil, Rapeseed', 'Oil, Soybean', 'Oil, Soybean (Local)',\n",
       "       'Oil, Sunflowerseed', 'Oilseed, Copra', 'Oilseed, Cottonseed',\n",
       "       'Oilseed, Palm Kernel', 'Oilseed, Peanut', 'Oilseed, Rapeseed',\n",
       "       'Oilseed, Soybean', 'Oilseed, Soybean (Local)',\n",
       "       'Oilseed, Sunflowerseed', 'Orange Juice', 'Oranges, Fresh',\n",
       "       'Peaches & Nectarines, Fresh', 'Pears, Fresh',\n",
       "       'Pistachios, Inshell Basis', 'Poultry, Meat, Broiler',\n",
       "       'Rice, Milled', 'Rye', 'Sorghum', 'Sugar, Centrifugal',\n",
       "       'Tangerines/Mandarins, Fresh', 'Walnuts, Inshell Basis', 'Wheat'],\n",
       "      dtype=object)"
      ]
     },
     "execution_count": 87,
     "metadata": {},
     "output_type": "execute_result"
    }
   ],
   "source": [
    "df_crops[\"Commodity_Description\"].unique()"
   ]
  },
  {
   "cell_type": "code",
   "execution_count": 88,
   "metadata": {},
   "outputs": [],
   "source": [
    "# Ensure only the relevent crops remain in the dataframe\n",
    "crops = [\"Soybean\", \"Wheat\", \"Cotton\", \"Corn\"]\n",
    "df_crops = df_crops[df_crops[\"Commodity_Description\"].str.contains(\"|\".join(crops))]"
   ]
  },
  {
   "cell_type": "markdown",
   "metadata": {},
   "source": [
    "**Exploratory Data Analysis**"
   ]
  },
  {
   "cell_type": "code",
   "execution_count": 89,
   "metadata": {},
   "outputs": [
    {
     "data": {
      "text/plain": [
       "array(['Corn', 'Cotton', 'Meal, Cottonseed', 'Meal, Soybean',\n",
       "       'Meal, Soybean (Local)', 'Oil, Cottonseed', 'Oil, Soybean',\n",
       "       'Oil, Soybean (Local)', 'Oilseed, Cottonseed', 'Oilseed, Soybean',\n",
       "       'Oilseed, Soybean (Local)', 'Wheat'], dtype=object)"
      ]
     },
     "execution_count": 89,
     "metadata": {},
     "output_type": "execute_result"
    }
   ],
   "source": [
    "df_crops[\"Commodity_Description\"].unique()"
   ]
  },
  {
   "cell_type": "code",
   "execution_count": 90,
   "metadata": {},
   "outputs": [
    {
     "data": {
      "text/plain": [
       "array(['Corn', 'Cotton', 'Meal, Cottonseed', 'Meal, Soybean',\n",
       "       'Meal, Soybean (Local)', 'Oil, Cottonseed', 'Oil, Soybean',\n",
       "       'Oil, Soybean (Local)', 'Oilseed, Cottonseed', 'Oilseed, Soybean',\n",
       "       'Oilseed, Soybean (Local)', 'Wheat'], dtype=object)"
      ]
     },
     "execution_count": 90,
     "metadata": {},
     "output_type": "execute_result"
    }
   ],
   "source": [
    "df_crops = df_crops[df_crops[\"Attribute_Description\"] == (\"Production\")]\n",
    "df_crops[\"Commodity_Description\"].unique()"
   ]
  },
  {
   "cell_type": "markdown",
   "metadata": {},
   "source": [
    "According to the PSD USDA frequently asked questions page, \"Oil, \" and \"Meal,\" denotations are simply derivatives of Oilseed products. This explains why those derivatives do not have a Yield value associated with them - i.e. Oilseeds are the harvested crops while Oil and Meal are simply byproducts of the harvest.\n",
    "\n",
    "Thus, let's continue by removing all Oil, Soybean/Cottonseed and Meal, Soybean/Cottonseed rows and aggregating the remaining (i.e. there is no distinction with (Local) in our use case.) rows."
   ]
  },
  {
   "cell_type": "code",
   "execution_count": 91,
   "metadata": {},
   "outputs": [],
   "source": [
    "labels_to_parse = [label for label in df_crops[\"Commodity_Description\"].unique() if \"Local\" in label]\n",
    "for label in labels_to_parse:\n",
    "    typeOfCrop, name, _ = label.split(\" \")\n",
    "    df_crops.loc[df_crops[\"Commodity_Description\"].str.contains(f\"{name} (Local)\", regex=False), \"Commodity_Description\"] = f\"{typeOfCrop} {name}\""
   ]
  },
  {
   "cell_type": "code",
   "execution_count": 92,
   "metadata": {},
   "outputs": [
    {
     "data": {
      "text/plain": [
       "array(['Corn', 'Cotton', 'Meal, Cottonseed', 'Meal, Soybean',\n",
       "       'Oil, Cottonseed', 'Oil, Soybean', 'Oilseed, Cottonseed',\n",
       "       'Oilseed, Soybean', 'Wheat'], dtype=object)"
      ]
     },
     "execution_count": 92,
     "metadata": {},
     "output_type": "execute_result"
    }
   ],
   "source": [
    "cropLabels = df_crops[\"Commodity_Description\"].unique()\n",
    "cropLabels"
   ]
  },
  {
   "cell_type": "code",
   "execution_count": 93,
   "metadata": {},
   "outputs": [],
   "source": [
    "# # Convert cotton units into Metric Tons/Hectare to make it consistent with the other crop values\n",
    "# df_crops.loc[df_crops[\"Commodity_Description\"] == \"Cotton\", \"Value\"] /= 1000\n",
    "# df_crops.loc[df_crops[\"Commodity_Description\"] == \"Cotton\", \"Unit_Description\"] = \"(MT/HA)\"\n",
    "# df_crops.loc[df_crops[\"Commodity_Description\"] == \"Cotton\", \"Unit_ID\"] = \"26\"\n",
    "\n",
    "\n",
    "# # Remove rows where the yield is 0\n",
    "df_crops = df_crops[df_crops[\"Value\"] != 0]\n"
   ]
  },
  {
   "cell_type": "code",
   "execution_count": 94,
   "metadata": {},
   "outputs": [],
   "source": [
    "totalYieldByCountry = df_crops[(df_crops[\"Attribute_Description\"].str.contains(\"Production\"))]\\\n",
    "                      .groupby(by=[\"Commodity_Description\", \"Country_Name\", \"Unit_Description\"])\\\n",
    "                      .agg({\"Value\": \"mean\"}).sort_values(by=\"Value\", ascending=False)"
   ]
  },
  {
   "cell_type": "code",
   "execution_count": 95,
   "metadata": {},
   "outputs": [
    {
     "data": {
      "text/plain": [
       "Country_Name                    Unit_Description  \n",
       "China                           1000 480 lb. Bales    19611.904762\n",
       "United States                   1000 480 lb. Bales    14960.174603\n",
       "India                           1000 480 lb. Bales    13202.571429\n",
       "Union of Soviet Socialist Repu  1000 480 lb. Bales    10354.444444\n",
       "Pakistan                        1000 480 lb. Bales     5726.079365\n",
       "Uzbekistan                      1000 480 lb. Bales     4854.305556\n",
       "Brazil                          1000 480 lb. Bales     4503.507937\n",
       "Turkey                          1000 480 lb. Bales     2714.746032\n",
       "Australia                       1000 480 lb. Bales     1685.111111\n",
       "Egypt                           1000 480 lb. Bales     1423.714286\n",
       "Name: Value, dtype: float64"
      ]
     },
     "execution_count": 95,
     "metadata": {},
     "output_type": "execute_result"
    }
   ],
   "source": [
    "totalYieldByCountry[\"Value\"][\"Cotton\"].head(10)"
   ]
  },
  {
   "cell_type": "code",
   "execution_count": 96,
   "metadata": {},
   "outputs": [
    {
     "data": {
      "text/plain": [
       "Country_Name                    Unit_Description\n",
       "European Union                  (1000 MT)           135132.958333\n",
       "China                           (1000 MT)            82463.968254\n",
       "Union of Soviet Socialist Repu  (1000 MT)            77908.740741\n",
       "EU-15                           (1000 MT)            65630.333333\n",
       "India                           (1000 MT)            54108.603175\n",
       "United States                   (1000 MT)            54059.555556\n",
       "Russia                          (1000 MT)            51095.500000\n",
       "Canada                          (1000 MT)            23414.349206\n",
       "Ukraine                         (1000 MT)            20415.333333\n",
       "Australia                       (1000 MT)            16925.015873\n",
       "Name: Value, dtype: float64"
      ]
     },
     "execution_count": 96,
     "metadata": {},
     "output_type": "execute_result"
    }
   ],
   "source": [
    "totalYieldByCountry[\"Value\"][\"Wheat\"].head(10)"
   ]
  },
  {
   "cell_type": "code",
   "execution_count": 97,
   "metadata": {},
   "outputs": [
    {
     "data": {
      "text/plain": [
       "Country_Name    Unit_Description\n",
       "United States   (1000 MT)           65715.932203\n",
       "Brazil          (1000 MT)           52486.978261\n",
       "Argentina       (1000 MT)           27314.782609\n",
       "China           (1000 MT)           12049.152542\n",
       "India           (1000 MT)            4702.148148\n",
       "Paraguay        (1000 MT)            3191.542373\n",
       "Canada          (1000 MT)            2420.559322\n",
       "European Union  (1000 MT)            1657.208333\n",
       "Russia          (1000 MT)            1455.888889\n",
       "Ukraine         (1000 MT)            1406.888889\n",
       "Name: Value, dtype: float64"
      ]
     },
     "execution_count": 97,
     "metadata": {},
     "output_type": "execute_result"
    }
   ],
   "source": [
    "totalYieldByCountry[\"Value\"][\"Oilseed, Soybean\"].head(10)"
   ]
  },
  {
   "cell_type": "code",
   "execution_count": 98,
   "metadata": {},
   "outputs": [
    {
     "data": {
      "text/plain": [
       "Country_Name                    Unit_Description\n",
       "China                           (1000 MT)           8330.037037\n",
       "India                           (1000 MT)           6260.074074\n",
       "United States                   (1000 MT)           5019.037037\n",
       "Union of Soviet Socialist Repu  (1000 MT)           4491.000000\n",
       "Pakistan                        (1000 MT)           2769.537037\n",
       "Uzbekistan                      (1000 MT)           1982.500000\n",
       "Brazil                          (1000 MT)           1699.111111\n",
       "Turkey                          (1000 MT)            977.703704\n",
       "EU-15                           (1000 MT)            627.500000\n",
       "Australia                       (1000 MT)            605.370370\n",
       "Name: Value, dtype: float64"
      ]
     },
     "execution_count": 98,
     "metadata": {},
     "output_type": "execute_result"
    }
   ],
   "source": [
    "totalYieldByCountry[\"Value\"][\"Oilseed, Cottonseed\"].head(10)"
   ]
  },
  {
   "cell_type": "code",
   "execution_count": 99,
   "metadata": {},
   "outputs": [
    {
     "data": {
      "text/plain": [
       "Country_Name                    Unit_Description\n",
       "United States                   (1000 MT)           220282.507937\n",
       "China                           (1000 MT)           112578.380952\n",
       "European Union                  (1000 MT)            61550.250000\n",
       "Brazil                          (1000 MT)            38665.285714\n",
       "EU-15                           (1000 MT)            20957.641026\n",
       "Argentina                       (1000 MT)            16485.682540\n",
       "Mexico                          (1000 MT)            15447.460317\n",
       "Ukraine                         (1000 MT)            13684.972222\n",
       "India                           (1000 MT)            12396.206349\n",
       "Union of Soviet Socialist Repu  (1000 MT)            11114.703704\n",
       "Name: Value, dtype: float64"
      ]
     },
     "execution_count": 99,
     "metadata": {},
     "output_type": "execute_result"
    }
   ],
   "source": [
    "totalYieldByCountry[\"Value\"][\"Corn\"].head(10)"
   ]
  },
  {
   "cell_type": "code",
   "execution_count": 100,
   "metadata": {},
   "outputs": [
    {
     "name": "stdout",
     "output_type": "stream",
     "text": [
      "Earliest Record: 1960 \n",
      "Latest Record: 2022\n",
      "Number of Records: 31461\n"
     ]
    },
    {
     "data": {
      "text/plain": [
       "Corn                   6576\n",
       "Cotton                 4863\n",
       "Wheat                  4699\n",
       "Meal, Soybean          3546\n",
       "Oil, Soybean           2951\n",
       "Oilseed, Soybean       2394\n",
       "Meal, Cottonseed       2217\n",
       "Oil, Cottonseed        2180\n",
       "Oilseed, Cottonseed    2035\n",
       "Name: Commodity_Description, dtype: int64"
      ]
     },
     "execution_count": 100,
     "metadata": {},
     "output_type": "execute_result"
    }
   ],
   "source": [
    "# Let's see the date range of the data we have available to us\n",
    "\n",
    "print(\"Earliest Record:\", df_crops[\"Market_Year\"].min(), \"\\nLatest Record:\", df_crops[\"Market_Year\"].max())\n",
    "print(\"Number of Records:\", len(df_crops))\n",
    "\n",
    "# Frequency by crop\n",
    "df_crops[\"Commodity_Description\"].value_counts()"
   ]
  },
  {
   "cell_type": "markdown",
   "metadata": {},
   "source": [
    "Let's analyze specific countries/regions based off their total productions to see if we can refine the scope of our analysis."
   ]
  },
  {
   "cell_type": "markdown",
   "metadata": {},
   "source": [
    "**United States Analysis**"
   ]
  },
  {
   "cell_type": "code",
   "execution_count": 101,
   "metadata": {},
   "outputs": [],
   "source": [
    "df_corn_USA = df_crops[(df_crops[\"Country_Name\"] == \"United States\") & (df_crops[\"Commodity_Description\"] == \"Corn\")].reset_index(drop=True)"
   ]
  },
  {
   "cell_type": "code",
   "execution_count": 102,
   "metadata": {},
   "outputs": [
    {
     "data": {
      "text/html": [
       "<div>\n",
       "<style scoped>\n",
       "    .dataframe tbody tr th:only-of-type {\n",
       "        vertical-align: middle;\n",
       "    }\n",
       "\n",
       "    .dataframe tbody tr th {\n",
       "        vertical-align: top;\n",
       "    }\n",
       "\n",
       "    .dataframe thead th {\n",
       "        text-align: right;\n",
       "    }\n",
       "</style>\n",
       "<table border=\"1\" class=\"dataframe\">\n",
       "  <thead>\n",
       "    <tr style=\"text-align: right;\">\n",
       "      <th></th>\n",
       "      <th>Commodity_Code</th>\n",
       "      <th>Commodity_Description</th>\n",
       "      <th>Country_Code</th>\n",
       "      <th>Country_Name</th>\n",
       "      <th>Market_Year</th>\n",
       "      <th>Calendar_Year</th>\n",
       "      <th>Month</th>\n",
       "      <th>Attribute_ID</th>\n",
       "      <th>Attribute_Description</th>\n",
       "      <th>Unit_ID</th>\n",
       "      <th>Unit_Description</th>\n",
       "      <th>Value</th>\n",
       "    </tr>\n",
       "  </thead>\n",
       "  <tbody>\n",
       "    <tr>\n",
       "      <th>0</th>\n",
       "      <td>440000</td>\n",
       "      <td>Corn</td>\n",
       "      <td>US</td>\n",
       "      <td>United States</td>\n",
       "      <td>1960</td>\n",
       "      <td>2006</td>\n",
       "      <td>7</td>\n",
       "      <td>28</td>\n",
       "      <td>Production</td>\n",
       "      <td>8</td>\n",
       "      <td>(1000 MT)</td>\n",
       "      <td>99241.0</td>\n",
       "    </tr>\n",
       "    <tr>\n",
       "      <th>1</th>\n",
       "      <td>440000</td>\n",
       "      <td>Corn</td>\n",
       "      <td>US</td>\n",
       "      <td>United States</td>\n",
       "      <td>1961</td>\n",
       "      <td>2006</td>\n",
       "      <td>7</td>\n",
       "      <td>28</td>\n",
       "      <td>Production</td>\n",
       "      <td>8</td>\n",
       "      <td>(1000 MT)</td>\n",
       "      <td>91389.0</td>\n",
       "    </tr>\n",
       "    <tr>\n",
       "      <th>2</th>\n",
       "      <td>440000</td>\n",
       "      <td>Corn</td>\n",
       "      <td>US</td>\n",
       "      <td>United States</td>\n",
       "      <td>1962</td>\n",
       "      <td>2006</td>\n",
       "      <td>7</td>\n",
       "      <td>28</td>\n",
       "      <td>Production</td>\n",
       "      <td>8</td>\n",
       "      <td>(1000 MT)</td>\n",
       "      <td>91605.0</td>\n",
       "    </tr>\n",
       "    <tr>\n",
       "      <th>3</th>\n",
       "      <td>440000</td>\n",
       "      <td>Corn</td>\n",
       "      <td>US</td>\n",
       "      <td>United States</td>\n",
       "      <td>1963</td>\n",
       "      <td>2006</td>\n",
       "      <td>7</td>\n",
       "      <td>28</td>\n",
       "      <td>Production</td>\n",
       "      <td>8</td>\n",
       "      <td>(1000 MT)</td>\n",
       "      <td>102093.0</td>\n",
       "    </tr>\n",
       "    <tr>\n",
       "      <th>4</th>\n",
       "      <td>440000</td>\n",
       "      <td>Corn</td>\n",
       "      <td>US</td>\n",
       "      <td>United States</td>\n",
       "      <td>1964</td>\n",
       "      <td>2006</td>\n",
       "      <td>7</td>\n",
       "      <td>28</td>\n",
       "      <td>Production</td>\n",
       "      <td>8</td>\n",
       "      <td>(1000 MT)</td>\n",
       "      <td>88504.0</td>\n",
       "    </tr>\n",
       "  </tbody>\n",
       "</table>\n",
       "</div>"
      ],
      "text/plain": [
       "   Commodity_Code Commodity_Description Country_Code   Country_Name  \\\n",
       "0          440000                  Corn           US  United States   \n",
       "1          440000                  Corn           US  United States   \n",
       "2          440000                  Corn           US  United States   \n",
       "3          440000                  Corn           US  United States   \n",
       "4          440000                  Corn           US  United States   \n",
       "\n",
       "   Market_Year  Calendar_Year  Month  Attribute_ID Attribute_Description  \\\n",
       "0         1960           2006      7            28            Production   \n",
       "1         1961           2006      7            28            Production   \n",
       "2         1962           2006      7            28            Production   \n",
       "3         1963           2006      7            28            Production   \n",
       "4         1964           2006      7            28            Production   \n",
       "\n",
       "   Unit_ID Unit_Description     Value  \n",
       "0        8        (1000 MT)   99241.0  \n",
       "1        8        (1000 MT)   91389.0  \n",
       "2        8        (1000 MT)   91605.0  \n",
       "3        8        (1000 MT)  102093.0  \n",
       "4        8        (1000 MT)   88504.0  "
      ]
     },
     "execution_count": 102,
     "metadata": {},
     "output_type": "execute_result"
    }
   ],
   "source": [
    "df_corn_USA.head()"
   ]
  },
  {
   "cell_type": "code",
   "execution_count": 103,
   "metadata": {},
   "outputs": [
    {
     "data": {
      "application/vnd.plotly.v1+json": {
       "config": {
        "plotlyServerURL": "https://plot.ly"
       },
       "data": [
        {
         "alignmentgroup": "True",
         "hovertemplate": "Market_Year=%{x}<br>Value=%{y}<extra></extra>",
         "legendgroup": "",
         "marker": {
          "color": "#636efa",
          "pattern": {
           "shape": ""
          }
         },
         "name": "",
         "offsetgroup": "",
         "orientation": "v",
         "showlegend": false,
         "textposition": "auto",
         "type": "bar",
         "x": [
          1960,
          1961,
          1962,
          1963,
          1964,
          1965,
          1966,
          1967,
          1968,
          1969,
          1970,
          1971,
          1972,
          1973,
          1974,
          1975,
          1976,
          1977,
          1978,
          1979,
          1980,
          1981,
          1982,
          1983,
          1984,
          1985,
          1986,
          1987,
          1988,
          1989,
          1990,
          1991,
          1992,
          1993,
          1994,
          1995,
          1996,
          1997,
          1998,
          1999,
          2000,
          2001,
          2002,
          2003,
          2004,
          2005,
          2006,
          2007,
          2008,
          2009,
          2010,
          2011,
          2012,
          2013,
          2014,
          2015,
          2016,
          2017,
          2018,
          2019,
          2020,
          2021,
          2022
         ],
         "xaxis": "x",
         "y": [
          99241,
          91389,
          91605,
          102093,
          88504,
          104218,
          105862,
          123459,
          113024,
          119057,
          105472,
          143422,
          141734,
          144043,
          119421,
          148362,
          159752,
          165236,
          184614,
          201384,
          168648,
          206223,
          209181,
          106031,
          194881,
          225447,
          208944,
          181143,
          125194,
          191320,
          201534,
          189868,
          240719,
          160986,
          255295,
          187970,
          234518,
          233864,
          247882,
          239549,
          251854,
          241377,
          227767,
          256229,
          299876,
          282263,
          267503,
          331177,
          305911,
          331921,
          315618,
          312789,
          273192,
          351316,
          361136,
          345506,
          384778,
          371096,
          364262,
          345962,
          358447,
          382893,
          353836
         ],
         "yaxis": "y"
        }
       ],
       "layout": {
        "barmode": "relative",
        "legend": {
         "tracegroupgap": 0
        },
        "template": {
         "data": {
          "bar": [
           {
            "error_x": {
             "color": "#2a3f5f"
            },
            "error_y": {
             "color": "#2a3f5f"
            },
            "marker": {
             "line": {
              "color": "#E5ECF6",
              "width": 0.5
             },
             "pattern": {
              "fillmode": "overlay",
              "size": 10,
              "solidity": 0.2
             }
            },
            "type": "bar"
           }
          ],
          "barpolar": [
           {
            "marker": {
             "line": {
              "color": "#E5ECF6",
              "width": 0.5
             },
             "pattern": {
              "fillmode": "overlay",
              "size": 10,
              "solidity": 0.2
             }
            },
            "type": "barpolar"
           }
          ],
          "carpet": [
           {
            "aaxis": {
             "endlinecolor": "#2a3f5f",
             "gridcolor": "white",
             "linecolor": "white",
             "minorgridcolor": "white",
             "startlinecolor": "#2a3f5f"
            },
            "baxis": {
             "endlinecolor": "#2a3f5f",
             "gridcolor": "white",
             "linecolor": "white",
             "minorgridcolor": "white",
             "startlinecolor": "#2a3f5f"
            },
            "type": "carpet"
           }
          ],
          "choropleth": [
           {
            "colorbar": {
             "outlinewidth": 0,
             "ticks": ""
            },
            "type": "choropleth"
           }
          ],
          "contour": [
           {
            "colorbar": {
             "outlinewidth": 0,
             "ticks": ""
            },
            "colorscale": [
             [
              0,
              "#0d0887"
             ],
             [
              0.1111111111111111,
              "#46039f"
             ],
             [
              0.2222222222222222,
              "#7201a8"
             ],
             [
              0.3333333333333333,
              "#9c179e"
             ],
             [
              0.4444444444444444,
              "#bd3786"
             ],
             [
              0.5555555555555556,
              "#d8576b"
             ],
             [
              0.6666666666666666,
              "#ed7953"
             ],
             [
              0.7777777777777778,
              "#fb9f3a"
             ],
             [
              0.8888888888888888,
              "#fdca26"
             ],
             [
              1,
              "#f0f921"
             ]
            ],
            "type": "contour"
           }
          ],
          "contourcarpet": [
           {
            "colorbar": {
             "outlinewidth": 0,
             "ticks": ""
            },
            "type": "contourcarpet"
           }
          ],
          "heatmap": [
           {
            "colorbar": {
             "outlinewidth": 0,
             "ticks": ""
            },
            "colorscale": [
             [
              0,
              "#0d0887"
             ],
             [
              0.1111111111111111,
              "#46039f"
             ],
             [
              0.2222222222222222,
              "#7201a8"
             ],
             [
              0.3333333333333333,
              "#9c179e"
             ],
             [
              0.4444444444444444,
              "#bd3786"
             ],
             [
              0.5555555555555556,
              "#d8576b"
             ],
             [
              0.6666666666666666,
              "#ed7953"
             ],
             [
              0.7777777777777778,
              "#fb9f3a"
             ],
             [
              0.8888888888888888,
              "#fdca26"
             ],
             [
              1,
              "#f0f921"
             ]
            ],
            "type": "heatmap"
           }
          ],
          "heatmapgl": [
           {
            "colorbar": {
             "outlinewidth": 0,
             "ticks": ""
            },
            "colorscale": [
             [
              0,
              "#0d0887"
             ],
             [
              0.1111111111111111,
              "#46039f"
             ],
             [
              0.2222222222222222,
              "#7201a8"
             ],
             [
              0.3333333333333333,
              "#9c179e"
             ],
             [
              0.4444444444444444,
              "#bd3786"
             ],
             [
              0.5555555555555556,
              "#d8576b"
             ],
             [
              0.6666666666666666,
              "#ed7953"
             ],
             [
              0.7777777777777778,
              "#fb9f3a"
             ],
             [
              0.8888888888888888,
              "#fdca26"
             ],
             [
              1,
              "#f0f921"
             ]
            ],
            "type": "heatmapgl"
           }
          ],
          "histogram": [
           {
            "marker": {
             "pattern": {
              "fillmode": "overlay",
              "size": 10,
              "solidity": 0.2
             }
            },
            "type": "histogram"
           }
          ],
          "histogram2d": [
           {
            "colorbar": {
             "outlinewidth": 0,
             "ticks": ""
            },
            "colorscale": [
             [
              0,
              "#0d0887"
             ],
             [
              0.1111111111111111,
              "#46039f"
             ],
             [
              0.2222222222222222,
              "#7201a8"
             ],
             [
              0.3333333333333333,
              "#9c179e"
             ],
             [
              0.4444444444444444,
              "#bd3786"
             ],
             [
              0.5555555555555556,
              "#d8576b"
             ],
             [
              0.6666666666666666,
              "#ed7953"
             ],
             [
              0.7777777777777778,
              "#fb9f3a"
             ],
             [
              0.8888888888888888,
              "#fdca26"
             ],
             [
              1,
              "#f0f921"
             ]
            ],
            "type": "histogram2d"
           }
          ],
          "histogram2dcontour": [
           {
            "colorbar": {
             "outlinewidth": 0,
             "ticks": ""
            },
            "colorscale": [
             [
              0,
              "#0d0887"
             ],
             [
              0.1111111111111111,
              "#46039f"
             ],
             [
              0.2222222222222222,
              "#7201a8"
             ],
             [
              0.3333333333333333,
              "#9c179e"
             ],
             [
              0.4444444444444444,
              "#bd3786"
             ],
             [
              0.5555555555555556,
              "#d8576b"
             ],
             [
              0.6666666666666666,
              "#ed7953"
             ],
             [
              0.7777777777777778,
              "#fb9f3a"
             ],
             [
              0.8888888888888888,
              "#fdca26"
             ],
             [
              1,
              "#f0f921"
             ]
            ],
            "type": "histogram2dcontour"
           }
          ],
          "mesh3d": [
           {
            "colorbar": {
             "outlinewidth": 0,
             "ticks": ""
            },
            "type": "mesh3d"
           }
          ],
          "parcoords": [
           {
            "line": {
             "colorbar": {
              "outlinewidth": 0,
              "ticks": ""
             }
            },
            "type": "parcoords"
           }
          ],
          "pie": [
           {
            "automargin": true,
            "type": "pie"
           }
          ],
          "scatter": [
           {
            "fillpattern": {
             "fillmode": "overlay",
             "size": 10,
             "solidity": 0.2
            },
            "type": "scatter"
           }
          ],
          "scatter3d": [
           {
            "line": {
             "colorbar": {
              "outlinewidth": 0,
              "ticks": ""
             }
            },
            "marker": {
             "colorbar": {
              "outlinewidth": 0,
              "ticks": ""
             }
            },
            "type": "scatter3d"
           }
          ],
          "scattercarpet": [
           {
            "marker": {
             "colorbar": {
              "outlinewidth": 0,
              "ticks": ""
             }
            },
            "type": "scattercarpet"
           }
          ],
          "scattergeo": [
           {
            "marker": {
             "colorbar": {
              "outlinewidth": 0,
              "ticks": ""
             }
            },
            "type": "scattergeo"
           }
          ],
          "scattergl": [
           {
            "marker": {
             "colorbar": {
              "outlinewidth": 0,
              "ticks": ""
             }
            },
            "type": "scattergl"
           }
          ],
          "scattermapbox": [
           {
            "marker": {
             "colorbar": {
              "outlinewidth": 0,
              "ticks": ""
             }
            },
            "type": "scattermapbox"
           }
          ],
          "scatterpolar": [
           {
            "marker": {
             "colorbar": {
              "outlinewidth": 0,
              "ticks": ""
             }
            },
            "type": "scatterpolar"
           }
          ],
          "scatterpolargl": [
           {
            "marker": {
             "colorbar": {
              "outlinewidth": 0,
              "ticks": ""
             }
            },
            "type": "scatterpolargl"
           }
          ],
          "scatterternary": [
           {
            "marker": {
             "colorbar": {
              "outlinewidth": 0,
              "ticks": ""
             }
            },
            "type": "scatterternary"
           }
          ],
          "surface": [
           {
            "colorbar": {
             "outlinewidth": 0,
             "ticks": ""
            },
            "colorscale": [
             [
              0,
              "#0d0887"
             ],
             [
              0.1111111111111111,
              "#46039f"
             ],
             [
              0.2222222222222222,
              "#7201a8"
             ],
             [
              0.3333333333333333,
              "#9c179e"
             ],
             [
              0.4444444444444444,
              "#bd3786"
             ],
             [
              0.5555555555555556,
              "#d8576b"
             ],
             [
              0.6666666666666666,
              "#ed7953"
             ],
             [
              0.7777777777777778,
              "#fb9f3a"
             ],
             [
              0.8888888888888888,
              "#fdca26"
             ],
             [
              1,
              "#f0f921"
             ]
            ],
            "type": "surface"
           }
          ],
          "table": [
           {
            "cells": {
             "fill": {
              "color": "#EBF0F8"
             },
             "line": {
              "color": "white"
             }
            },
            "header": {
             "fill": {
              "color": "#C8D4E3"
             },
             "line": {
              "color": "white"
             }
            },
            "type": "table"
           }
          ]
         },
         "layout": {
          "annotationdefaults": {
           "arrowcolor": "#2a3f5f",
           "arrowhead": 0,
           "arrowwidth": 1
          },
          "autotypenumbers": "strict",
          "coloraxis": {
           "colorbar": {
            "outlinewidth": 0,
            "ticks": ""
           }
          },
          "colorscale": {
           "diverging": [
            [
             0,
             "#8e0152"
            ],
            [
             0.1,
             "#c51b7d"
            ],
            [
             0.2,
             "#de77ae"
            ],
            [
             0.3,
             "#f1b6da"
            ],
            [
             0.4,
             "#fde0ef"
            ],
            [
             0.5,
             "#f7f7f7"
            ],
            [
             0.6,
             "#e6f5d0"
            ],
            [
             0.7,
             "#b8e186"
            ],
            [
             0.8,
             "#7fbc41"
            ],
            [
             0.9,
             "#4d9221"
            ],
            [
             1,
             "#276419"
            ]
           ],
           "sequential": [
            [
             0,
             "#0d0887"
            ],
            [
             0.1111111111111111,
             "#46039f"
            ],
            [
             0.2222222222222222,
             "#7201a8"
            ],
            [
             0.3333333333333333,
             "#9c179e"
            ],
            [
             0.4444444444444444,
             "#bd3786"
            ],
            [
             0.5555555555555556,
             "#d8576b"
            ],
            [
             0.6666666666666666,
             "#ed7953"
            ],
            [
             0.7777777777777778,
             "#fb9f3a"
            ],
            [
             0.8888888888888888,
             "#fdca26"
            ],
            [
             1,
             "#f0f921"
            ]
           ],
           "sequentialminus": [
            [
             0,
             "#0d0887"
            ],
            [
             0.1111111111111111,
             "#46039f"
            ],
            [
             0.2222222222222222,
             "#7201a8"
            ],
            [
             0.3333333333333333,
             "#9c179e"
            ],
            [
             0.4444444444444444,
             "#bd3786"
            ],
            [
             0.5555555555555556,
             "#d8576b"
            ],
            [
             0.6666666666666666,
             "#ed7953"
            ],
            [
             0.7777777777777778,
             "#fb9f3a"
            ],
            [
             0.8888888888888888,
             "#fdca26"
            ],
            [
             1,
             "#f0f921"
            ]
           ]
          },
          "colorway": [
           "#636efa",
           "#EF553B",
           "#00cc96",
           "#ab63fa",
           "#FFA15A",
           "#19d3f3",
           "#FF6692",
           "#B6E880",
           "#FF97FF",
           "#FECB52"
          ],
          "font": {
           "color": "#2a3f5f"
          },
          "geo": {
           "bgcolor": "white",
           "lakecolor": "white",
           "landcolor": "#E5ECF6",
           "showlakes": true,
           "showland": true,
           "subunitcolor": "white"
          },
          "hoverlabel": {
           "align": "left"
          },
          "hovermode": "closest",
          "mapbox": {
           "style": "light"
          },
          "paper_bgcolor": "white",
          "plot_bgcolor": "#E5ECF6",
          "polar": {
           "angularaxis": {
            "gridcolor": "white",
            "linecolor": "white",
            "ticks": ""
           },
           "bgcolor": "#E5ECF6",
           "radialaxis": {
            "gridcolor": "white",
            "linecolor": "white",
            "ticks": ""
           }
          },
          "scene": {
           "xaxis": {
            "backgroundcolor": "#E5ECF6",
            "gridcolor": "white",
            "gridwidth": 2,
            "linecolor": "white",
            "showbackground": true,
            "ticks": "",
            "zerolinecolor": "white"
           },
           "yaxis": {
            "backgroundcolor": "#E5ECF6",
            "gridcolor": "white",
            "gridwidth": 2,
            "linecolor": "white",
            "showbackground": true,
            "ticks": "",
            "zerolinecolor": "white"
           },
           "zaxis": {
            "backgroundcolor": "#E5ECF6",
            "gridcolor": "white",
            "gridwidth": 2,
            "linecolor": "white",
            "showbackground": true,
            "ticks": "",
            "zerolinecolor": "white"
           }
          },
          "shapedefaults": {
           "line": {
            "color": "#2a3f5f"
           }
          },
          "ternary": {
           "aaxis": {
            "gridcolor": "white",
            "linecolor": "white",
            "ticks": ""
           },
           "baxis": {
            "gridcolor": "white",
            "linecolor": "white",
            "ticks": ""
           },
           "bgcolor": "#E5ECF6",
           "caxis": {
            "gridcolor": "white",
            "linecolor": "white",
            "ticks": ""
           }
          },
          "title": {
           "x": 0.05
          },
          "xaxis": {
           "automargin": true,
           "gridcolor": "white",
           "linecolor": "white",
           "ticks": "",
           "title": {
            "standoff": 15
           },
           "zerolinecolor": "white",
           "zerolinewidth": 2
          },
          "yaxis": {
           "automargin": true,
           "gridcolor": "white",
           "linecolor": "white",
           "ticks": "",
           "title": {
            "standoff": 15
           },
           "zerolinecolor": "white",
           "zerolinewidth": 2
          }
         }
        },
        "title": {
         "text": "United States Corn Yield over Time"
        },
        "xaxis": {
         "anchor": "y",
         "domain": [
          0,
          1
         ],
         "title": {
          "text": "Market_Year"
         }
        },
        "yaxis": {
         "anchor": "x",
         "domain": [
          0,
          1
         ],
         "title": {
          "text": "Value"
         }
        }
       }
      }
     },
     "metadata": {},
     "output_type": "display_data"
    }
   ],
   "source": [
    "px.bar(df_corn_USA, x=\"Market_Year\", y=\"Value\", title=\"United States Corn Yield over Time\")"
   ]
  },
  {
   "cell_type": "markdown",
   "metadata": {},
   "source": [
    "**Australia Region Analysis**"
   ]
  },
  {
   "cell_type": "code",
   "execution_count": 104,
   "metadata": {},
   "outputs": [
    {
     "data": {
      "application/vnd.plotly.v1+json": {
       "config": {
        "plotlyServerURL": "https://plot.ly"
       },
       "data": [
        {
         "alignmentgroup": "True",
         "hovertemplate": "Commodity_Description=Corn<br>Market_Year=%{x}<br>Value=%{y}<extra></extra>",
         "legendgroup": "Corn",
         "marker": {
          "color": "#636efa",
          "pattern": {
           "shape": ""
          }
         },
         "name": "Corn",
         "offsetgroup": "Corn",
         "orientation": "v",
         "showlegend": true,
         "textposition": "auto",
         "type": "bar",
         "x": [
          1960,
          1961,
          1962,
          1963,
          1964,
          1965,
          1966,
          1967,
          1968,
          1969,
          1970,
          1971,
          1972,
          1973,
          1974,
          1975,
          1976,
          1977,
          1978,
          1979,
          1980,
          1981,
          1982,
          1983,
          1984,
          1985,
          1986,
          1987,
          1988,
          1989,
          1990,
          1991,
          1992,
          1993,
          1994,
          1995,
          1996,
          1997,
          1998,
          1999,
          2000,
          2001,
          2002,
          2003,
          2004,
          2005,
          2006,
          2007,
          2008,
          2009,
          2010,
          2011,
          2012,
          2013,
          2014,
          2015,
          2016,
          2017,
          2018,
          2019,
          2020,
          2021,
          2022
         ],
         "xaxis": "x",
         "y": [
          159,
          186,
          189,
          171,
          175,
          125,
          190,
          181,
          149,
          192,
          212,
          214,
          139,
          106,
          133,
          131,
          144,
          130,
          169,
          151,
          173,
          212,
          139,
          238,
          291,
          228,
          158,
          221,
          226,
          227,
          205,
          280,
          208,
          202,
          242,
          325,
          398,
          271,
          338,
          406,
          345,
          457,
          316,
          392,
          312,
          380,
          240,
          387,
          375,
          328,
          357,
          451,
          507,
          390,
          495,
          400,
          436,
          387,
          327,
          268,
          306,
          430,
          400
         ],
         "yaxis": "y"
        },
        {
         "alignmentgroup": "True",
         "hovertemplate": "Commodity_Description=Cotton<br>Market_Year=%{x}<br>Value=%{y}<extra></extra>",
         "legendgroup": "Cotton",
         "marker": {
          "color": "#EF553B",
          "pattern": {
           "shape": ""
          }
         },
         "name": "Cotton",
         "offsetgroup": "Cotton",
         "orientation": "v",
         "showlegend": true,
         "textposition": "auto",
         "type": "bar",
         "x": [
          1960,
          1961,
          1962,
          1963,
          1964,
          1965,
          1966,
          1967,
          1968,
          1969,
          1970,
          1971,
          1972,
          1973,
          1974,
          1975,
          1976,
          1977,
          1978,
          1979,
          1980,
          1981,
          1982,
          1983,
          1984,
          1985,
          1986,
          1987,
          1988,
          1989,
          1990,
          1991,
          1992,
          1993,
          1994,
          1995,
          1996,
          1997,
          1998,
          1999,
          2000,
          2001,
          2002,
          2003,
          2004,
          2005,
          2006,
          2007,
          2008,
          2009,
          2010,
          2011,
          2012,
          2013,
          2014,
          2015,
          2016,
          2017,
          2018,
          2019,
          2020,
          2021,
          2022
         ],
         "xaxis": "x",
         "y": [
          8,
          8,
          10,
          16,
          45,
          91,
          85,
          150,
          153,
          127,
          90,
          200,
          146,
          140,
          153,
          115,
          128,
          204,
          244,
          382,
          455,
          615,
          464,
          648,
          1144,
          1185,
          983,
          1275,
          1226,
          1401,
          1989,
          2306,
          1713,
          1511,
          1539,
          1970,
          2792,
          3166,
          3327,
          3458,
          3700,
          3200,
          1700,
          1600,
          3000,
          2750,
          1350,
          625,
          1525,
          1775,
          4200,
          5500,
          4600,
          4100,
          2300,
          2850,
          4050,
          4800,
          2200,
          625,
          2800,
          5750,
          5500
         ],
         "yaxis": "y"
        },
        {
         "alignmentgroup": "True",
         "hovertemplate": "Commodity_Description=Meal, Cottonseed<br>Market_Year=%{x}<br>Value=%{y}<extra></extra>",
         "legendgroup": "Meal, Cottonseed",
         "marker": {
          "color": "#00cc96",
          "pattern": {
           "shape": ""
          }
         },
         "name": "Meal, Cottonseed",
         "offsetgroup": "Meal, Cottonseed",
         "orientation": "v",
         "showlegend": true,
         "textposition": "auto",
         "type": "bar",
         "x": [
          1969,
          1970,
          1971,
          1972,
          1973,
          1974,
          1975,
          1976,
          1977,
          1978,
          1979,
          1980,
          1981,
          1982,
          1983,
          1984,
          1985,
          1986,
          1987,
          1988,
          1989,
          1990,
          1991,
          1992,
          1993,
          1994,
          1995,
          1996,
          1997,
          1998,
          1999,
          2000,
          2001,
          2002,
          2003,
          2004,
          2005,
          2006,
          2007,
          2008,
          2009,
          2010,
          2011,
          2012,
          2013,
          2014,
          2015,
          2016,
          2017,
          2018,
          2019,
          2020,
          2021,
          2022
         ],
         "xaxis": "x",
         "y": [
          29,
          21,
          45,
          32,
          26,
          23,
          19,
          20,
          32,
          35,
          62,
          69,
          99,
          75,
          103,
          166,
          120,
          110,
          138,
          127,
          133,
          209,
          218,
          137,
          111,
          115,
          165,
          227,
          245,
          224,
          171,
          147,
          217,
          145,
          120,
          230,
          241,
          156,
          126,
          124,
          176,
          298,
          313,
          313,
          313,
          289,
          280,
          338,
          386,
          106,
          3,
          3,
          3,
          3
         ],
         "yaxis": "y"
        },
        {
         "alignmentgroup": "True",
         "hovertemplate": "Commodity_Description=Meal, Soybean<br>Market_Year=%{x}<br>Value=%{y}<extra></extra>",
         "legendgroup": "Meal, Soybean",
         "marker": {
          "color": "#ab63fa",
          "pattern": {
           "shape": ""
          }
         },
         "name": "Meal, Soybean",
         "offsetgroup": "Meal, Soybean",
         "orientation": "v",
         "showlegend": true,
         "textposition": "auto",
         "type": "bar",
         "x": [
          1964,
          1965,
          1966,
          1967,
          1968,
          1969,
          1970,
          1971,
          1972,
          1973,
          1974,
          1975,
          1976,
          1977,
          1978,
          1979,
          1980,
          1981,
          1982,
          1983,
          1984,
          1985,
          1986,
          1987,
          1988,
          1989,
          1990,
          1991,
          1992,
          1993,
          1994,
          1995,
          1996,
          1997,
          1998,
          1999,
          2000,
          2001,
          2002,
          2003,
          2004,
          2005,
          2006,
          2007,
          2008,
          2009,
          2010,
          2011,
          2012,
          2013,
          2014,
          2015,
          2016,
          2017,
          2018,
          2019,
          2020,
          2021,
          2022
         ],
         "xaxis": "x",
         "y": [
          6,
          2,
          1,
          2,
          2,
          3,
          9,
          13,
          22,
          57,
          55,
          45,
          58,
          62,
          81,
          89,
          91,
          86,
          59,
          90,
          120,
          81,
          115,
          122,
          107,
          92,
          94,
          92,
          82,
          106,
          87,
          87,
          102,
          87,
          94,
          88,
          35,
          49,
          47,
          46,
          43,
          43,
          42,
          30,
          50,
          49,
          20,
          59,
          59,
          24,
          26,
          27,
          21,
          34,
          18,
          16,
          28,
          27,
          31
         ],
         "yaxis": "y"
        },
        {
         "alignmentgroup": "True",
         "hovertemplate": "Commodity_Description=Oil, Cottonseed<br>Market_Year=%{x}<br>Value=%{y}<extra></extra>",
         "legendgroup": "Oil, Cottonseed",
         "marker": {
          "color": "#FFA15A",
          "pattern": {
           "shape": ""
          }
         },
         "name": "Oil, Cottonseed",
         "offsetgroup": "Oil, Cottonseed",
         "orientation": "v",
         "showlegend": true,
         "textposition": "auto",
         "type": "bar",
         "x": [
          1969,
          1970,
          1971,
          1972,
          1973,
          1974,
          1975,
          1976,
          1977,
          1978,
          1979,
          1980,
          1981,
          1982,
          1983,
          1984,
          1985,
          1986,
          1987,
          1988,
          1989,
          1990,
          1991,
          1992,
          1993,
          1994,
          1995,
          1996,
          1997,
          1998,
          1999,
          2000,
          2001,
          2002,
          2003,
          2004,
          2005,
          2006,
          2007,
          2008,
          2009,
          2010,
          2011,
          2012,
          2013,
          2014,
          2015,
          2016,
          2017,
          2018,
          2019,
          2020,
          2021,
          2022
         ],
         "xaxis": "x",
         "y": [
          8,
          6,
          12,
          9,
          7,
          8,
          7,
          7,
          11,
          12,
          21,
          27,
          39,
          26,
          40,
          64,
          42,
          35,
          47,
          45,
          48,
          72,
          75,
          47,
          38,
          40,
          57,
          79,
          84,
          77,
          59,
          50,
          75,
          50,
          41,
          79,
          83,
          54,
          43,
          43,
          61,
          103,
          109,
          109,
          109,
          100,
          97,
          117,
          133,
          36,
          5,
          2,
          2,
          2
         ],
         "yaxis": "y"
        },
        {
         "alignmentgroup": "True",
         "hovertemplate": "Commodity_Description=Oil, Soybean<br>Market_Year=%{x}<br>Value=%{y}<extra></extra>",
         "legendgroup": "Oil, Soybean",
         "marker": {
          "color": "#19d3f3",
          "pattern": {
           "shape": ""
          }
         },
         "name": "Oil, Soybean",
         "offsetgroup": "Oil, Soybean",
         "orientation": "v",
         "showlegend": true,
         "textposition": "auto",
         "type": "bar",
         "x": [
          1964,
          1969,
          1970,
          1971,
          1972,
          1973,
          1974,
          1975,
          1976,
          1977,
          1978,
          1979,
          1980,
          1981,
          1982,
          1983,
          1984,
          1985,
          1986,
          1987,
          1988,
          1989,
          1990,
          1991,
          1992,
          1993,
          1994,
          1995,
          1996,
          1997,
          1998,
          1999,
          2000,
          2001,
          2002,
          2003,
          2004,
          2005,
          2006,
          2007,
          2008,
          2009,
          2010,
          2011,
          2012,
          2013,
          2014,
          2015,
          2016,
          2017,
          2018,
          2019,
          2020,
          2021,
          2022
         ],
         "xaxis": "x",
         "y": [
          1,
          1,
          2,
          3,
          4,
          12,
          11,
          9,
          12,
          14,
          18,
          20,
          21,
          20,
          13,
          21,
          27,
          17,
          25,
          27,
          24,
          21,
          20,
          20,
          18,
          25,
          21,
          21,
          24,
          21,
          22,
          21,
          8,
          12,
          11,
          11,
          10,
          10,
          10,
          7,
          12,
          11,
          5,
          14,
          14,
          5,
          6,
          6,
          5,
          8,
          4,
          4,
          7,
          7,
          8
         ],
         "yaxis": "y"
        },
        {
         "alignmentgroup": "True",
         "hovertemplate": "Commodity_Description=Oilseed, Cottonseed<br>Market_Year=%{x}<br>Value=%{y}<extra></extra>",
         "legendgroup": "Oilseed, Cottonseed",
         "marker": {
          "color": "#FF6692",
          "pattern": {
           "shape": ""
          }
         },
         "name": "Oilseed, Cottonseed",
         "offsetgroup": "Oilseed, Cottonseed",
         "orientation": "v",
         "showlegend": true,
         "textposition": "auto",
         "type": "bar",
         "x": [
          1969,
          1970,
          1971,
          1972,
          1973,
          1974,
          1975,
          1976,
          1977,
          1978,
          1979,
          1980,
          1981,
          1982,
          1983,
          1984,
          1985,
          1986,
          1987,
          1988,
          1989,
          1990,
          1991,
          1992,
          1993,
          1994,
          1995,
          1996,
          1997,
          1998,
          1999,
          2000,
          2001,
          2002,
          2003,
          2004,
          2005,
          2006,
          2007,
          2008,
          2009,
          2010,
          2011,
          2012,
          2013,
          2014,
          2015,
          2016,
          2017,
          2018,
          2019,
          2020,
          2021,
          2022
         ],
         "xaxis": "x",
         "y": [
          54,
          39,
          86,
          63,
          50,
          54,
          42,
          44,
          72,
          87,
          136,
          161,
          219,
          164,
          230,
          410,
          382,
          330,
          435,
          419,
          493,
          689,
          724,
          528,
          466,
          474,
          595,
          842,
          941,
          990,
          1047,
          1144,
          989,
          526,
          495,
          928,
          850,
          417,
          193,
          471,
          549,
          1299,
          1676,
          1377,
          1205,
          664,
          881,
          1250,
          1442,
          661,
          187,
          841,
          1727,
          1652
         ],
         "yaxis": "y"
        },
        {
         "alignmentgroup": "True",
         "hovertemplate": "Commodity_Description=Oilseed, Soybean<br>Market_Year=%{x}<br>Value=%{y}<extra></extra>",
         "legendgroup": "Oilseed, Soybean",
         "marker": {
          "color": "#B6E880",
          "pattern": {
           "shape": ""
          }
         },
         "name": "Oilseed, Soybean",
         "offsetgroup": "Oilseed, Soybean",
         "orientation": "v",
         "showlegend": true,
         "textposition": "auto",
         "type": "bar",
         "x": [
          1964,
          1965,
          1966,
          1967,
          1968,
          1969,
          1970,
          1971,
          1972,
          1973,
          1974,
          1975,
          1976,
          1977,
          1978,
          1979,
          1980,
          1981,
          1982,
          1983,
          1984,
          1985,
          1986,
          1987,
          1988,
          1989,
          1990,
          1991,
          1992,
          1993,
          1994,
          1995,
          1996,
          1997,
          1998,
          1999,
          2000,
          2001,
          2002,
          2003,
          2004,
          2005,
          2006,
          2007,
          2008,
          2009,
          2010,
          2011,
          2012,
          2013,
          2014,
          2015,
          2016,
          2017,
          2018,
          2019,
          2020,
          2021,
          2022
         ],
         "xaxis": "x",
         "y": [
          1,
          1,
          1,
          2,
          2,
          5,
          9,
          28,
          38,
          63,
          74,
          45,
          55,
          77,
          99,
          82,
          73,
          77,
          53,
          89,
          110,
          105,
          115,
          68,
          129,
          77,
          62,
          63,
          51,
          81,
          28,
          44,
          74,
          54,
          109,
          105,
          49,
          63,
          18,
          74,
          54,
          56,
          32,
          35,
          80,
          60,
          30,
          86,
          92,
          32,
          37,
          40,
          31,
          51,
          15,
          17,
          44,
          50,
          43
         ],
         "yaxis": "y"
        },
        {
         "alignmentgroup": "True",
         "hovertemplate": "Commodity_Description=Wheat<br>Market_Year=%{x}<br>Value=%{y}<extra></extra>",
         "legendgroup": "Wheat",
         "marker": {
          "color": "#FF97FF",
          "pattern": {
           "shape": ""
          }
         },
         "name": "Wheat",
         "offsetgroup": "Wheat",
         "orientation": "v",
         "showlegend": true,
         "textposition": "auto",
         "type": "bar",
         "x": [
          1960,
          1961,
          1962,
          1963,
          1964,
          1965,
          1966,
          1967,
          1968,
          1969,
          1970,
          1971,
          1972,
          1973,
          1974,
          1975,
          1976,
          1977,
          1978,
          1979,
          1980,
          1981,
          1982,
          1983,
          1984,
          1985,
          1986,
          1987,
          1988,
          1989,
          1990,
          1991,
          1992,
          1993,
          1994,
          1995,
          1996,
          1997,
          1998,
          1999,
          2000,
          2001,
          2002,
          2003,
          2004,
          2005,
          2006,
          2007,
          2008,
          2009,
          2010,
          2011,
          2012,
          2013,
          2014,
          2015,
          2016,
          2017,
          2018,
          2019,
          2020,
          2021,
          2022
         ],
         "xaxis": "x",
         "y": [
          7450,
          6727,
          8353,
          8925,
          10037,
          7067,
          12699,
          7547,
          14804,
          10546,
          7890,
          8606,
          6590,
          11987,
          11357,
          11982,
          11800,
          9370,
          18090,
          16188,
          10856,
          16360,
          8876,
          22016,
          18666,
          16167,
          16119,
          12369,
          14060,
          14214,
          15066,
          10557,
          16184,
          16479,
          8903,
          16504,
          22925,
          19224,
          21465,
          24757,
          22108,
          24299,
          10132,
          26132,
          21905,
          25173,
          10822,
          13569,
          21420,
          21834,
          27410,
          29905,
          22856,
          25303,
          23743,
          22275,
          31819,
          20941,
          17598,
          14480,
          31923,
          36347,
          34500
         ],
         "yaxis": "y"
        }
       ],
       "layout": {
        "barmode": "relative",
        "legend": {
         "title": {
          "text": "Commodity_Description"
         },
         "tracegroupgap": 0
        },
        "template": {
         "data": {
          "bar": [
           {
            "error_x": {
             "color": "#2a3f5f"
            },
            "error_y": {
             "color": "#2a3f5f"
            },
            "marker": {
             "line": {
              "color": "#E5ECF6",
              "width": 0.5
             },
             "pattern": {
              "fillmode": "overlay",
              "size": 10,
              "solidity": 0.2
             }
            },
            "type": "bar"
           }
          ],
          "barpolar": [
           {
            "marker": {
             "line": {
              "color": "#E5ECF6",
              "width": 0.5
             },
             "pattern": {
              "fillmode": "overlay",
              "size": 10,
              "solidity": 0.2
             }
            },
            "type": "barpolar"
           }
          ],
          "carpet": [
           {
            "aaxis": {
             "endlinecolor": "#2a3f5f",
             "gridcolor": "white",
             "linecolor": "white",
             "minorgridcolor": "white",
             "startlinecolor": "#2a3f5f"
            },
            "baxis": {
             "endlinecolor": "#2a3f5f",
             "gridcolor": "white",
             "linecolor": "white",
             "minorgridcolor": "white",
             "startlinecolor": "#2a3f5f"
            },
            "type": "carpet"
           }
          ],
          "choropleth": [
           {
            "colorbar": {
             "outlinewidth": 0,
             "ticks": ""
            },
            "type": "choropleth"
           }
          ],
          "contour": [
           {
            "colorbar": {
             "outlinewidth": 0,
             "ticks": ""
            },
            "colorscale": [
             [
              0,
              "#0d0887"
             ],
             [
              0.1111111111111111,
              "#46039f"
             ],
             [
              0.2222222222222222,
              "#7201a8"
             ],
             [
              0.3333333333333333,
              "#9c179e"
             ],
             [
              0.4444444444444444,
              "#bd3786"
             ],
             [
              0.5555555555555556,
              "#d8576b"
             ],
             [
              0.6666666666666666,
              "#ed7953"
             ],
             [
              0.7777777777777778,
              "#fb9f3a"
             ],
             [
              0.8888888888888888,
              "#fdca26"
             ],
             [
              1,
              "#f0f921"
             ]
            ],
            "type": "contour"
           }
          ],
          "contourcarpet": [
           {
            "colorbar": {
             "outlinewidth": 0,
             "ticks": ""
            },
            "type": "contourcarpet"
           }
          ],
          "heatmap": [
           {
            "colorbar": {
             "outlinewidth": 0,
             "ticks": ""
            },
            "colorscale": [
             [
              0,
              "#0d0887"
             ],
             [
              0.1111111111111111,
              "#46039f"
             ],
             [
              0.2222222222222222,
              "#7201a8"
             ],
             [
              0.3333333333333333,
              "#9c179e"
             ],
             [
              0.4444444444444444,
              "#bd3786"
             ],
             [
              0.5555555555555556,
              "#d8576b"
             ],
             [
              0.6666666666666666,
              "#ed7953"
             ],
             [
              0.7777777777777778,
              "#fb9f3a"
             ],
             [
              0.8888888888888888,
              "#fdca26"
             ],
             [
              1,
              "#f0f921"
             ]
            ],
            "type": "heatmap"
           }
          ],
          "heatmapgl": [
           {
            "colorbar": {
             "outlinewidth": 0,
             "ticks": ""
            },
            "colorscale": [
             [
              0,
              "#0d0887"
             ],
             [
              0.1111111111111111,
              "#46039f"
             ],
             [
              0.2222222222222222,
              "#7201a8"
             ],
             [
              0.3333333333333333,
              "#9c179e"
             ],
             [
              0.4444444444444444,
              "#bd3786"
             ],
             [
              0.5555555555555556,
              "#d8576b"
             ],
             [
              0.6666666666666666,
              "#ed7953"
             ],
             [
              0.7777777777777778,
              "#fb9f3a"
             ],
             [
              0.8888888888888888,
              "#fdca26"
             ],
             [
              1,
              "#f0f921"
             ]
            ],
            "type": "heatmapgl"
           }
          ],
          "histogram": [
           {
            "marker": {
             "pattern": {
              "fillmode": "overlay",
              "size": 10,
              "solidity": 0.2
             }
            },
            "type": "histogram"
           }
          ],
          "histogram2d": [
           {
            "colorbar": {
             "outlinewidth": 0,
             "ticks": ""
            },
            "colorscale": [
             [
              0,
              "#0d0887"
             ],
             [
              0.1111111111111111,
              "#46039f"
             ],
             [
              0.2222222222222222,
              "#7201a8"
             ],
             [
              0.3333333333333333,
              "#9c179e"
             ],
             [
              0.4444444444444444,
              "#bd3786"
             ],
             [
              0.5555555555555556,
              "#d8576b"
             ],
             [
              0.6666666666666666,
              "#ed7953"
             ],
             [
              0.7777777777777778,
              "#fb9f3a"
             ],
             [
              0.8888888888888888,
              "#fdca26"
             ],
             [
              1,
              "#f0f921"
             ]
            ],
            "type": "histogram2d"
           }
          ],
          "histogram2dcontour": [
           {
            "colorbar": {
             "outlinewidth": 0,
             "ticks": ""
            },
            "colorscale": [
             [
              0,
              "#0d0887"
             ],
             [
              0.1111111111111111,
              "#46039f"
             ],
             [
              0.2222222222222222,
              "#7201a8"
             ],
             [
              0.3333333333333333,
              "#9c179e"
             ],
             [
              0.4444444444444444,
              "#bd3786"
             ],
             [
              0.5555555555555556,
              "#d8576b"
             ],
             [
              0.6666666666666666,
              "#ed7953"
             ],
             [
              0.7777777777777778,
              "#fb9f3a"
             ],
             [
              0.8888888888888888,
              "#fdca26"
             ],
             [
              1,
              "#f0f921"
             ]
            ],
            "type": "histogram2dcontour"
           }
          ],
          "mesh3d": [
           {
            "colorbar": {
             "outlinewidth": 0,
             "ticks": ""
            },
            "type": "mesh3d"
           }
          ],
          "parcoords": [
           {
            "line": {
             "colorbar": {
              "outlinewidth": 0,
              "ticks": ""
             }
            },
            "type": "parcoords"
           }
          ],
          "pie": [
           {
            "automargin": true,
            "type": "pie"
           }
          ],
          "scatter": [
           {
            "fillpattern": {
             "fillmode": "overlay",
             "size": 10,
             "solidity": 0.2
            },
            "type": "scatter"
           }
          ],
          "scatter3d": [
           {
            "line": {
             "colorbar": {
              "outlinewidth": 0,
              "ticks": ""
             }
            },
            "marker": {
             "colorbar": {
              "outlinewidth": 0,
              "ticks": ""
             }
            },
            "type": "scatter3d"
           }
          ],
          "scattercarpet": [
           {
            "marker": {
             "colorbar": {
              "outlinewidth": 0,
              "ticks": ""
             }
            },
            "type": "scattercarpet"
           }
          ],
          "scattergeo": [
           {
            "marker": {
             "colorbar": {
              "outlinewidth": 0,
              "ticks": ""
             }
            },
            "type": "scattergeo"
           }
          ],
          "scattergl": [
           {
            "marker": {
             "colorbar": {
              "outlinewidth": 0,
              "ticks": ""
             }
            },
            "type": "scattergl"
           }
          ],
          "scattermapbox": [
           {
            "marker": {
             "colorbar": {
              "outlinewidth": 0,
              "ticks": ""
             }
            },
            "type": "scattermapbox"
           }
          ],
          "scatterpolar": [
           {
            "marker": {
             "colorbar": {
              "outlinewidth": 0,
              "ticks": ""
             }
            },
            "type": "scatterpolar"
           }
          ],
          "scatterpolargl": [
           {
            "marker": {
             "colorbar": {
              "outlinewidth": 0,
              "ticks": ""
             }
            },
            "type": "scatterpolargl"
           }
          ],
          "scatterternary": [
           {
            "marker": {
             "colorbar": {
              "outlinewidth": 0,
              "ticks": ""
             }
            },
            "type": "scatterternary"
           }
          ],
          "surface": [
           {
            "colorbar": {
             "outlinewidth": 0,
             "ticks": ""
            },
            "colorscale": [
             [
              0,
              "#0d0887"
             ],
             [
              0.1111111111111111,
              "#46039f"
             ],
             [
              0.2222222222222222,
              "#7201a8"
             ],
             [
              0.3333333333333333,
              "#9c179e"
             ],
             [
              0.4444444444444444,
              "#bd3786"
             ],
             [
              0.5555555555555556,
              "#d8576b"
             ],
             [
              0.6666666666666666,
              "#ed7953"
             ],
             [
              0.7777777777777778,
              "#fb9f3a"
             ],
             [
              0.8888888888888888,
              "#fdca26"
             ],
             [
              1,
              "#f0f921"
             ]
            ],
            "type": "surface"
           }
          ],
          "table": [
           {
            "cells": {
             "fill": {
              "color": "#EBF0F8"
             },
             "line": {
              "color": "white"
             }
            },
            "header": {
             "fill": {
              "color": "#C8D4E3"
             },
             "line": {
              "color": "white"
             }
            },
            "type": "table"
           }
          ]
         },
         "layout": {
          "annotationdefaults": {
           "arrowcolor": "#2a3f5f",
           "arrowhead": 0,
           "arrowwidth": 1
          },
          "autotypenumbers": "strict",
          "coloraxis": {
           "colorbar": {
            "outlinewidth": 0,
            "ticks": ""
           }
          },
          "colorscale": {
           "diverging": [
            [
             0,
             "#8e0152"
            ],
            [
             0.1,
             "#c51b7d"
            ],
            [
             0.2,
             "#de77ae"
            ],
            [
             0.3,
             "#f1b6da"
            ],
            [
             0.4,
             "#fde0ef"
            ],
            [
             0.5,
             "#f7f7f7"
            ],
            [
             0.6,
             "#e6f5d0"
            ],
            [
             0.7,
             "#b8e186"
            ],
            [
             0.8,
             "#7fbc41"
            ],
            [
             0.9,
             "#4d9221"
            ],
            [
             1,
             "#276419"
            ]
           ],
           "sequential": [
            [
             0,
             "#0d0887"
            ],
            [
             0.1111111111111111,
             "#46039f"
            ],
            [
             0.2222222222222222,
             "#7201a8"
            ],
            [
             0.3333333333333333,
             "#9c179e"
            ],
            [
             0.4444444444444444,
             "#bd3786"
            ],
            [
             0.5555555555555556,
             "#d8576b"
            ],
            [
             0.6666666666666666,
             "#ed7953"
            ],
            [
             0.7777777777777778,
             "#fb9f3a"
            ],
            [
             0.8888888888888888,
             "#fdca26"
            ],
            [
             1,
             "#f0f921"
            ]
           ],
           "sequentialminus": [
            [
             0,
             "#0d0887"
            ],
            [
             0.1111111111111111,
             "#46039f"
            ],
            [
             0.2222222222222222,
             "#7201a8"
            ],
            [
             0.3333333333333333,
             "#9c179e"
            ],
            [
             0.4444444444444444,
             "#bd3786"
            ],
            [
             0.5555555555555556,
             "#d8576b"
            ],
            [
             0.6666666666666666,
             "#ed7953"
            ],
            [
             0.7777777777777778,
             "#fb9f3a"
            ],
            [
             0.8888888888888888,
             "#fdca26"
            ],
            [
             1,
             "#f0f921"
            ]
           ]
          },
          "colorway": [
           "#636efa",
           "#EF553B",
           "#00cc96",
           "#ab63fa",
           "#FFA15A",
           "#19d3f3",
           "#FF6692",
           "#B6E880",
           "#FF97FF",
           "#FECB52"
          ],
          "font": {
           "color": "#2a3f5f"
          },
          "geo": {
           "bgcolor": "white",
           "lakecolor": "white",
           "landcolor": "#E5ECF6",
           "showlakes": true,
           "showland": true,
           "subunitcolor": "white"
          },
          "hoverlabel": {
           "align": "left"
          },
          "hovermode": "closest",
          "mapbox": {
           "style": "light"
          },
          "paper_bgcolor": "white",
          "plot_bgcolor": "#E5ECF6",
          "polar": {
           "angularaxis": {
            "gridcolor": "white",
            "linecolor": "white",
            "ticks": ""
           },
           "bgcolor": "#E5ECF6",
           "radialaxis": {
            "gridcolor": "white",
            "linecolor": "white",
            "ticks": ""
           }
          },
          "scene": {
           "xaxis": {
            "backgroundcolor": "#E5ECF6",
            "gridcolor": "white",
            "gridwidth": 2,
            "linecolor": "white",
            "showbackground": true,
            "ticks": "",
            "zerolinecolor": "white"
           },
           "yaxis": {
            "backgroundcolor": "#E5ECF6",
            "gridcolor": "white",
            "gridwidth": 2,
            "linecolor": "white",
            "showbackground": true,
            "ticks": "",
            "zerolinecolor": "white"
           },
           "zaxis": {
            "backgroundcolor": "#E5ECF6",
            "gridcolor": "white",
            "gridwidth": 2,
            "linecolor": "white",
            "showbackground": true,
            "ticks": "",
            "zerolinecolor": "white"
           }
          },
          "shapedefaults": {
           "line": {
            "color": "#2a3f5f"
           }
          },
          "ternary": {
           "aaxis": {
            "gridcolor": "white",
            "linecolor": "white",
            "ticks": ""
           },
           "baxis": {
            "gridcolor": "white",
            "linecolor": "white",
            "ticks": ""
           },
           "bgcolor": "#E5ECF6",
           "caxis": {
            "gridcolor": "white",
            "linecolor": "white",
            "ticks": ""
           }
          },
          "title": {
           "x": 0.05
          },
          "xaxis": {
           "automargin": true,
           "gridcolor": "white",
           "linecolor": "white",
           "ticks": "",
           "title": {
            "standoff": 15
           },
           "zerolinecolor": "white",
           "zerolinewidth": 2
          },
          "yaxis": {
           "automargin": true,
           "gridcolor": "white",
           "linecolor": "white",
           "ticks": "",
           "title": {
            "standoff": 15
           },
           "zerolinecolor": "white",
           "zerolinewidth": 2
          }
         }
        },
        "title": {
         "text": "Australia Crop Yield over Time"
        },
        "xaxis": {
         "anchor": "y",
         "domain": [
          0,
          1
         ],
         "title": {
          "text": "Market_Year"
         }
        },
        "yaxis": {
         "anchor": "x",
         "domain": [
          0,
          1
         ],
         "title": {
          "text": "Value"
         }
        }
       }
      }
     },
     "metadata": {},
     "output_type": "display_data"
    }
   ],
   "source": [
    "df_crops_Australia = df_crops[(df_crops[\"Country_Name\"].str.contains(\"Australia\"))]\n",
    "px.bar(df_crops_Australia, x=\"Market_Year\", y=\"Value\", title=\"Australia Crop Yield over Time\", color=\"Commodity_Description\")"
   ]
  },
  {
   "cell_type": "markdown",
   "metadata": {},
   "source": [
    "Let's settle on exploring the United State's production of **corn** for the rest of this exploration. (Since they are the world's top producer of Corn afterall)"
   ]
  },
  {
   "cell_type": "code",
   "execution_count": 105,
   "metadata": {},
   "outputs": [
    {
     "data": {
      "text/html": [
       "<div>\n",
       "<style scoped>\n",
       "    .dataframe tbody tr th:only-of-type {\n",
       "        vertical-align: middle;\n",
       "    }\n",
       "\n",
       "    .dataframe tbody tr th {\n",
       "        vertical-align: top;\n",
       "    }\n",
       "\n",
       "    .dataframe thead th {\n",
       "        text-align: right;\n",
       "    }\n",
       "</style>\n",
       "<table border=\"1\" class=\"dataframe\">\n",
       "  <thead>\n",
       "    <tr style=\"text-align: right;\">\n",
       "      <th></th>\n",
       "      <th>Commodity_Code</th>\n",
       "      <th>Commodity_Description</th>\n",
       "      <th>Country_Code</th>\n",
       "      <th>Country_Name</th>\n",
       "      <th>Market_Year</th>\n",
       "      <th>Calendar_Year</th>\n",
       "      <th>Month</th>\n",
       "      <th>Attribute_ID</th>\n",
       "      <th>Attribute_Description</th>\n",
       "      <th>Unit_ID</th>\n",
       "      <th>Unit_Description</th>\n",
       "      <th>Value</th>\n",
       "    </tr>\n",
       "  </thead>\n",
       "  <tbody>\n",
       "    <tr>\n",
       "      <th>58</th>\n",
       "      <td>440000</td>\n",
       "      <td>Corn</td>\n",
       "      <td>US</td>\n",
       "      <td>United States</td>\n",
       "      <td>2018</td>\n",
       "      <td>2021</td>\n",
       "      <td>7</td>\n",
       "      <td>28</td>\n",
       "      <td>Production</td>\n",
       "      <td>8</td>\n",
       "      <td>(1000 MT)</td>\n",
       "      <td>364262.0</td>\n",
       "    </tr>\n",
       "    <tr>\n",
       "      <th>59</th>\n",
       "      <td>440000</td>\n",
       "      <td>Corn</td>\n",
       "      <td>US</td>\n",
       "      <td>United States</td>\n",
       "      <td>2019</td>\n",
       "      <td>2022</td>\n",
       "      <td>8</td>\n",
       "      <td>28</td>\n",
       "      <td>Production</td>\n",
       "      <td>8</td>\n",
       "      <td>(1000 MT)</td>\n",
       "      <td>345962.0</td>\n",
       "    </tr>\n",
       "    <tr>\n",
       "      <th>60</th>\n",
       "      <td>440000</td>\n",
       "      <td>Corn</td>\n",
       "      <td>US</td>\n",
       "      <td>United States</td>\n",
       "      <td>2020</td>\n",
       "      <td>2022</td>\n",
       "      <td>11</td>\n",
       "      <td>28</td>\n",
       "      <td>Production</td>\n",
       "      <td>8</td>\n",
       "      <td>(1000 MT)</td>\n",
       "      <td>358447.0</td>\n",
       "    </tr>\n",
       "    <tr>\n",
       "      <th>61</th>\n",
       "      <td>440000</td>\n",
       "      <td>Corn</td>\n",
       "      <td>US</td>\n",
       "      <td>United States</td>\n",
       "      <td>2021</td>\n",
       "      <td>2022</td>\n",
       "      <td>11</td>\n",
       "      <td>28</td>\n",
       "      <td>Production</td>\n",
       "      <td>8</td>\n",
       "      <td>(1000 MT)</td>\n",
       "      <td>382893.0</td>\n",
       "    </tr>\n",
       "    <tr>\n",
       "      <th>62</th>\n",
       "      <td>440000</td>\n",
       "      <td>Corn</td>\n",
       "      <td>US</td>\n",
       "      <td>United States</td>\n",
       "      <td>2022</td>\n",
       "      <td>2022</td>\n",
       "      <td>11</td>\n",
       "      <td>28</td>\n",
       "      <td>Production</td>\n",
       "      <td>8</td>\n",
       "      <td>(1000 MT)</td>\n",
       "      <td>353836.0</td>\n",
       "    </tr>\n",
       "  </tbody>\n",
       "</table>\n",
       "</div>"
      ],
      "text/plain": [
       "    Commodity_Code Commodity_Description Country_Code   Country_Name  \\\n",
       "58          440000                  Corn           US  United States   \n",
       "59          440000                  Corn           US  United States   \n",
       "60          440000                  Corn           US  United States   \n",
       "61          440000                  Corn           US  United States   \n",
       "62          440000                  Corn           US  United States   \n",
       "\n",
       "    Market_Year  Calendar_Year  Month  Attribute_ID Attribute_Description  \\\n",
       "58         2018           2021      7            28            Production   \n",
       "59         2019           2022      8            28            Production   \n",
       "60         2020           2022     11            28            Production   \n",
       "61         2021           2022     11            28            Production   \n",
       "62         2022           2022     11            28            Production   \n",
       "\n",
       "    Unit_ID Unit_Description     Value  \n",
       "58        8        (1000 MT)  364262.0  \n",
       "59        8        (1000 MT)  345962.0  \n",
       "60        8        (1000 MT)  358447.0  \n",
       "61        8        (1000 MT)  382893.0  \n",
       "62        8        (1000 MT)  353836.0  "
      ]
     },
     "execution_count": 105,
     "metadata": {},
     "output_type": "execute_result"
    }
   ],
   "source": [
    "df_corn_USA.tail()"
   ]
  },
  {
   "cell_type": "code",
   "execution_count": 106,
   "metadata": {},
   "outputs": [],
   "source": [
    "# df_corn_USA[\"Bushels\"] = df_corn_USA[\"Production\"]*39.368\n",
    "# df_corn_USA[\"Bushels\"]"
   ]
  },
  {
   "cell_type": "code",
   "execution_count": 135,
   "metadata": {},
   "outputs": [
    {
     "data": {
      "text/plain": [
       "0.8500000000000001"
      ]
     },
     "execution_count": 135,
     "metadata": {},
     "output_type": "execute_result"
    }
   ],
   "source": [
    "# Taken from https://ipad.fas.usda.gov/countrysummary/Default.aspx?id=US&crop=Corn\n",
    "corn_belt_states = {\n",
    "    \"Minnesota\": .1,\n",
    "    \"South Dakota\": .06,\n",
    "    \"Nebraska\": .12,\n",
    "    \"Kansas\": .06,\n",
    "    \"Iowa\": .17,\n",
    "    \"Wisconsin\": .04,\n",
    "    \"Illinois\": .15,\n",
    "    \"Missouri\": .04,\n",
    "    \"Indiana\": .07,\n",
    "    \"Ohio\": .04\n",
    "}\n",
    "sum(corn_belt_states.values())"
   ]
  },
  {
   "cell_type": "markdown",
   "metadata": {},
   "source": [
    "Let's simplify the regions we're analyzing to be that of the corn belt states since they \n",
    "account for ~85% of the USA's corn production."
   ]
  },
  {
   "cell_type": "code",
   "execution_count": 108,
   "metadata": {},
   "outputs": [
    {
     "data": {
      "text/html": [
       "<div>\n",
       "<style scoped>\n",
       "    .dataframe tbody tr th:only-of-type {\n",
       "        vertical-align: middle;\n",
       "    }\n",
       "\n",
       "    .dataframe tbody tr th {\n",
       "        vertical-align: top;\n",
       "    }\n",
       "\n",
       "    .dataframe thead th {\n",
       "        text-align: right;\n",
       "    }\n",
       "</style>\n",
       "<table border=\"1\" class=\"dataframe\">\n",
       "  <thead>\n",
       "    <tr style=\"text-align: right;\">\n",
       "      <th></th>\n",
       "      <th>Commodity_Code</th>\n",
       "      <th>Commodity_Description</th>\n",
       "      <th>Country_Code</th>\n",
       "      <th>Country_Name</th>\n",
       "      <th>Market_Year</th>\n",
       "      <th>Calendar_Year</th>\n",
       "      <th>Month</th>\n",
       "      <th>Attribute_ID</th>\n",
       "      <th>Attribute_Description</th>\n",
       "      <th>Unit_ID</th>\n",
       "      <th>Unit_Description</th>\n",
       "      <th>Value</th>\n",
       "    </tr>\n",
       "  </thead>\n",
       "  <tbody>\n",
       "    <tr>\n",
       "      <th>53</th>\n",
       "      <td>440000</td>\n",
       "      <td>Corn</td>\n",
       "      <td>US</td>\n",
       "      <td>United States</td>\n",
       "      <td>2013</td>\n",
       "      <td>2019</td>\n",
       "      <td>2</td>\n",
       "      <td>28</td>\n",
       "      <td>Production</td>\n",
       "      <td>8</td>\n",
       "      <td>(1000 MT)</td>\n",
       "      <td>351316.0</td>\n",
       "    </tr>\n",
       "    <tr>\n",
       "      <th>54</th>\n",
       "      <td>440000</td>\n",
       "      <td>Corn</td>\n",
       "      <td>US</td>\n",
       "      <td>United States</td>\n",
       "      <td>2014</td>\n",
       "      <td>2019</td>\n",
       "      <td>2</td>\n",
       "      <td>28</td>\n",
       "      <td>Production</td>\n",
       "      <td>8</td>\n",
       "      <td>(1000 MT)</td>\n",
       "      <td>361136.0</td>\n",
       "    </tr>\n",
       "    <tr>\n",
       "      <th>55</th>\n",
       "      <td>440000</td>\n",
       "      <td>Corn</td>\n",
       "      <td>US</td>\n",
       "      <td>United States</td>\n",
       "      <td>2015</td>\n",
       "      <td>2019</td>\n",
       "      <td>7</td>\n",
       "      <td>28</td>\n",
       "      <td>Production</td>\n",
       "      <td>8</td>\n",
       "      <td>(1000 MT)</td>\n",
       "      <td>345506.0</td>\n",
       "    </tr>\n",
       "    <tr>\n",
       "      <th>56</th>\n",
       "      <td>440000</td>\n",
       "      <td>Corn</td>\n",
       "      <td>US</td>\n",
       "      <td>United States</td>\n",
       "      <td>2016</td>\n",
       "      <td>2020</td>\n",
       "      <td>7</td>\n",
       "      <td>28</td>\n",
       "      <td>Production</td>\n",
       "      <td>8</td>\n",
       "      <td>(1000 MT)</td>\n",
       "      <td>384778.0</td>\n",
       "    </tr>\n",
       "    <tr>\n",
       "      <th>57</th>\n",
       "      <td>440000</td>\n",
       "      <td>Corn</td>\n",
       "      <td>US</td>\n",
       "      <td>United States</td>\n",
       "      <td>2017</td>\n",
       "      <td>2021</td>\n",
       "      <td>7</td>\n",
       "      <td>28</td>\n",
       "      <td>Production</td>\n",
       "      <td>8</td>\n",
       "      <td>(1000 MT)</td>\n",
       "      <td>371096.0</td>\n",
       "    </tr>\n",
       "    <tr>\n",
       "      <th>58</th>\n",
       "      <td>440000</td>\n",
       "      <td>Corn</td>\n",
       "      <td>US</td>\n",
       "      <td>United States</td>\n",
       "      <td>2018</td>\n",
       "      <td>2021</td>\n",
       "      <td>7</td>\n",
       "      <td>28</td>\n",
       "      <td>Production</td>\n",
       "      <td>8</td>\n",
       "      <td>(1000 MT)</td>\n",
       "      <td>364262.0</td>\n",
       "    </tr>\n",
       "    <tr>\n",
       "      <th>59</th>\n",
       "      <td>440000</td>\n",
       "      <td>Corn</td>\n",
       "      <td>US</td>\n",
       "      <td>United States</td>\n",
       "      <td>2019</td>\n",
       "      <td>2022</td>\n",
       "      <td>8</td>\n",
       "      <td>28</td>\n",
       "      <td>Production</td>\n",
       "      <td>8</td>\n",
       "      <td>(1000 MT)</td>\n",
       "      <td>345962.0</td>\n",
       "    </tr>\n",
       "    <tr>\n",
       "      <th>60</th>\n",
       "      <td>440000</td>\n",
       "      <td>Corn</td>\n",
       "      <td>US</td>\n",
       "      <td>United States</td>\n",
       "      <td>2020</td>\n",
       "      <td>2022</td>\n",
       "      <td>11</td>\n",
       "      <td>28</td>\n",
       "      <td>Production</td>\n",
       "      <td>8</td>\n",
       "      <td>(1000 MT)</td>\n",
       "      <td>358447.0</td>\n",
       "    </tr>\n",
       "    <tr>\n",
       "      <th>61</th>\n",
       "      <td>440000</td>\n",
       "      <td>Corn</td>\n",
       "      <td>US</td>\n",
       "      <td>United States</td>\n",
       "      <td>2021</td>\n",
       "      <td>2022</td>\n",
       "      <td>11</td>\n",
       "      <td>28</td>\n",
       "      <td>Production</td>\n",
       "      <td>8</td>\n",
       "      <td>(1000 MT)</td>\n",
       "      <td>382893.0</td>\n",
       "    </tr>\n",
       "    <tr>\n",
       "      <th>62</th>\n",
       "      <td>440000</td>\n",
       "      <td>Corn</td>\n",
       "      <td>US</td>\n",
       "      <td>United States</td>\n",
       "      <td>2022</td>\n",
       "      <td>2022</td>\n",
       "      <td>11</td>\n",
       "      <td>28</td>\n",
       "      <td>Production</td>\n",
       "      <td>8</td>\n",
       "      <td>(1000 MT)</td>\n",
       "      <td>353836.0</td>\n",
       "    </tr>\n",
       "  </tbody>\n",
       "</table>\n",
       "</div>"
      ],
      "text/plain": [
       "    Commodity_Code Commodity_Description Country_Code   Country_Name  \\\n",
       "53          440000                  Corn           US  United States   \n",
       "54          440000                  Corn           US  United States   \n",
       "55          440000                  Corn           US  United States   \n",
       "56          440000                  Corn           US  United States   \n",
       "57          440000                  Corn           US  United States   \n",
       "58          440000                  Corn           US  United States   \n",
       "59          440000                  Corn           US  United States   \n",
       "60          440000                  Corn           US  United States   \n",
       "61          440000                  Corn           US  United States   \n",
       "62          440000                  Corn           US  United States   \n",
       "\n",
       "    Market_Year  Calendar_Year  Month  Attribute_ID Attribute_Description  \\\n",
       "53         2013           2019      2            28            Production   \n",
       "54         2014           2019      2            28            Production   \n",
       "55         2015           2019      7            28            Production   \n",
       "56         2016           2020      7            28            Production   \n",
       "57         2017           2021      7            28            Production   \n",
       "58         2018           2021      7            28            Production   \n",
       "59         2019           2022      8            28            Production   \n",
       "60         2020           2022     11            28            Production   \n",
       "61         2021           2022     11            28            Production   \n",
       "62         2022           2022     11            28            Production   \n",
       "\n",
       "    Unit_ID Unit_Description     Value  \n",
       "53        8        (1000 MT)  351316.0  \n",
       "54        8        (1000 MT)  361136.0  \n",
       "55        8        (1000 MT)  345506.0  \n",
       "56        8        (1000 MT)  384778.0  \n",
       "57        8        (1000 MT)  371096.0  \n",
       "58        8        (1000 MT)  364262.0  \n",
       "59        8        (1000 MT)  345962.0  \n",
       "60        8        (1000 MT)  358447.0  \n",
       "61        8        (1000 MT)  382893.0  \n",
       "62        8        (1000 MT)  353836.0  "
      ]
     },
     "execution_count": 108,
     "metadata": {},
     "output_type": "execute_result"
    }
   ],
   "source": [
    "df_corn_USA.iloc[-10:]"
   ]
  },
  {
   "cell_type": "markdown",
   "metadata": {},
   "source": [
    "We really only care about the year and **production** value columns at this point. Furthermore, let's analyze data all the way up to the last decade\n",
    "since more data implies better results. \n",
    "\n",
    "Plus, any earlier data might be inconsistent with our current distribution since we're not considering\n",
    "any changes in agricultural technology/practices that could potentially affect production"
   ]
  },
  {
   "cell_type": "code",
   "execution_count": 117,
   "metadata": {},
   "outputs": [
    {
     "data": {
      "text/html": [
       "<div>\n",
       "<style scoped>\n",
       "    .dataframe tbody tr th:only-of-type {\n",
       "        vertical-align: middle;\n",
       "    }\n",
       "\n",
       "    .dataframe tbody tr th {\n",
       "        vertical-align: top;\n",
       "    }\n",
       "\n",
       "    .dataframe thead th {\n",
       "        text-align: right;\n",
       "    }\n",
       "</style>\n",
       "<table border=\"1\" class=\"dataframe\">\n",
       "  <thead>\n",
       "    <tr style=\"text-align: right;\">\n",
       "      <th></th>\n",
       "      <th>Market_Year</th>\n",
       "      <th>Total_Production</th>\n",
       "    </tr>\n",
       "  </thead>\n",
       "  <tbody>\n",
       "    <tr>\n",
       "      <th>0</th>\n",
       "      <td>2013</td>\n",
       "      <td>351316.0</td>\n",
       "    </tr>\n",
       "    <tr>\n",
       "      <th>1</th>\n",
       "      <td>2014</td>\n",
       "      <td>361136.0</td>\n",
       "    </tr>\n",
       "    <tr>\n",
       "      <th>2</th>\n",
       "      <td>2015</td>\n",
       "      <td>345506.0</td>\n",
       "    </tr>\n",
       "    <tr>\n",
       "      <th>3</th>\n",
       "      <td>2016</td>\n",
       "      <td>384778.0</td>\n",
       "    </tr>\n",
       "    <tr>\n",
       "      <th>4</th>\n",
       "      <td>2017</td>\n",
       "      <td>371096.0</td>\n",
       "    </tr>\n",
       "    <tr>\n",
       "      <th>5</th>\n",
       "      <td>2018</td>\n",
       "      <td>364262.0</td>\n",
       "    </tr>\n",
       "    <tr>\n",
       "      <th>6</th>\n",
       "      <td>2019</td>\n",
       "      <td>345962.0</td>\n",
       "    </tr>\n",
       "    <tr>\n",
       "      <th>7</th>\n",
       "      <td>2020</td>\n",
       "      <td>358447.0</td>\n",
       "    </tr>\n",
       "    <tr>\n",
       "      <th>8</th>\n",
       "      <td>2021</td>\n",
       "      <td>382893.0</td>\n",
       "    </tr>\n",
       "    <tr>\n",
       "      <th>9</th>\n",
       "      <td>2022</td>\n",
       "      <td>353836.0</td>\n",
       "    </tr>\n",
       "  </tbody>\n",
       "</table>\n",
       "</div>"
      ],
      "text/plain": [
       "   Market_Year  Total_Production\n",
       "0         2013          351316.0\n",
       "1         2014          361136.0\n",
       "2         2015          345506.0\n",
       "3         2016          384778.0\n",
       "4         2017          371096.0\n",
       "5         2018          364262.0\n",
       "6         2019          345962.0\n",
       "7         2020          358447.0\n",
       "8         2021          382893.0\n",
       "9         2022          353836.0"
      ]
     },
     "execution_count": 117,
     "metadata": {},
     "output_type": "execute_result"
    }
   ],
   "source": [
    "df_final_crops = df_corn_USA[[\"Market_Year\", \"Value\"]].rename(columns={\"Value\": \"Total_Production\"}).iloc[-10:].reset_index(drop=True)\n",
    "df_final_crops"
   ]
  },
  {
   "cell_type": "markdown",
   "metadata": {},
   "source": [
    "Now, let's partition these production values by state (according to our mapping).\n",
    "\n",
    "**Note**: This generalization can be done only because all of the states of the corn belt tend to have\n",
    "similar climatic factors (i.e. soil condition, terrain, sunlight exposure, etc.)."
   ]
  },
  {
   "cell_type": "code",
   "execution_count": 134,
   "metadata": {},
   "outputs": [],
   "source": [
    "for state in corn_belt_states:\n",
    "    df_final_crops[f\"{state.lower()}_production\"] = df_final_crops[\"Total_Production\"] * corn_belt_states[state]\n"
   ]
  },
  {
   "cell_type": "code",
   "execution_count": 152,
   "metadata": {},
   "outputs": [
    {
     "name": "stdout",
     "output_type": "stream",
     "text": [
      "0.0\n",
      "0.0\n",
      "0.0\n",
      "0.0\n",
      "-5.820766091346741e-11\n",
      "0.0\n",
      "0.0\n",
      "0.0\n",
      "-5.820766091346741e-11\n",
      "0.0\n"
     ]
    }
   ],
   "source": [
    "# Validate that the sum of the corn belt's production is strictly 85% of the total production for that year\n",
    "for _, row in df_final_crops.iterrows():\n",
    "\n",
    "    expectedProduction = row[1] * 0.85\n",
    "    cornBeltProduction = sum(row[2:])\n",
    "    print(expectedProduction - cornBeltProduction)"
   ]
  },
  {
   "cell_type": "code",
   "execution_count": 154,
   "metadata": {},
   "outputs": [
    {
     "data": {
      "text/html": [
       "<div>\n",
       "<style scoped>\n",
       "    .dataframe tbody tr th:only-of-type {\n",
       "        vertical-align: middle;\n",
       "    }\n",
       "\n",
       "    .dataframe tbody tr th {\n",
       "        vertical-align: top;\n",
       "    }\n",
       "\n",
       "    .dataframe thead th {\n",
       "        text-align: right;\n",
       "    }\n",
       "</style>\n",
       "<table border=\"1\" class=\"dataframe\">\n",
       "  <thead>\n",
       "    <tr style=\"text-align: right;\">\n",
       "      <th></th>\n",
       "      <th>year</th>\n",
       "      <th>minnesota_production</th>\n",
       "      <th>south dakota_production</th>\n",
       "      <th>nebraska_production</th>\n",
       "      <th>kansas_production</th>\n",
       "      <th>iowa_production</th>\n",
       "      <th>wisconsin_production</th>\n",
       "      <th>illinois_production</th>\n",
       "      <th>missouri_production</th>\n",
       "      <th>indiana_production</th>\n",
       "      <th>ohio_production</th>\n",
       "    </tr>\n",
       "  </thead>\n",
       "  <tbody>\n",
       "    <tr>\n",
       "      <th>0</th>\n",
       "      <td>2013</td>\n",
       "      <td>35131.6</td>\n",
       "      <td>21078.96</td>\n",
       "      <td>42157.92</td>\n",
       "      <td>21078.96</td>\n",
       "      <td>59723.72</td>\n",
       "      <td>14052.64</td>\n",
       "      <td>52697.40</td>\n",
       "      <td>14052.64</td>\n",
       "      <td>24592.12</td>\n",
       "      <td>14052.64</td>\n",
       "    </tr>\n",
       "    <tr>\n",
       "      <th>1</th>\n",
       "      <td>2014</td>\n",
       "      <td>36113.6</td>\n",
       "      <td>21668.16</td>\n",
       "      <td>43336.32</td>\n",
       "      <td>21668.16</td>\n",
       "      <td>61393.12</td>\n",
       "      <td>14445.44</td>\n",
       "      <td>54170.40</td>\n",
       "      <td>14445.44</td>\n",
       "      <td>25279.52</td>\n",
       "      <td>14445.44</td>\n",
       "    </tr>\n",
       "    <tr>\n",
       "      <th>2</th>\n",
       "      <td>2015</td>\n",
       "      <td>34550.6</td>\n",
       "      <td>20730.36</td>\n",
       "      <td>41460.72</td>\n",
       "      <td>20730.36</td>\n",
       "      <td>58736.02</td>\n",
       "      <td>13820.24</td>\n",
       "      <td>51825.90</td>\n",
       "      <td>13820.24</td>\n",
       "      <td>24185.42</td>\n",
       "      <td>13820.24</td>\n",
       "    </tr>\n",
       "    <tr>\n",
       "      <th>3</th>\n",
       "      <td>2016</td>\n",
       "      <td>38477.8</td>\n",
       "      <td>23086.68</td>\n",
       "      <td>46173.36</td>\n",
       "      <td>23086.68</td>\n",
       "      <td>65412.26</td>\n",
       "      <td>15391.12</td>\n",
       "      <td>57716.70</td>\n",
       "      <td>15391.12</td>\n",
       "      <td>26934.46</td>\n",
       "      <td>15391.12</td>\n",
       "    </tr>\n",
       "    <tr>\n",
       "      <th>4</th>\n",
       "      <td>2017</td>\n",
       "      <td>37109.6</td>\n",
       "      <td>22265.76</td>\n",
       "      <td>44531.52</td>\n",
       "      <td>22265.76</td>\n",
       "      <td>63086.32</td>\n",
       "      <td>14843.84</td>\n",
       "      <td>55664.40</td>\n",
       "      <td>14843.84</td>\n",
       "      <td>25976.72</td>\n",
       "      <td>14843.84</td>\n",
       "    </tr>\n",
       "    <tr>\n",
       "      <th>5</th>\n",
       "      <td>2018</td>\n",
       "      <td>36426.2</td>\n",
       "      <td>21855.72</td>\n",
       "      <td>43711.44</td>\n",
       "      <td>21855.72</td>\n",
       "      <td>61924.54</td>\n",
       "      <td>14570.48</td>\n",
       "      <td>54639.30</td>\n",
       "      <td>14570.48</td>\n",
       "      <td>25498.34</td>\n",
       "      <td>14570.48</td>\n",
       "    </tr>\n",
       "    <tr>\n",
       "      <th>6</th>\n",
       "      <td>2019</td>\n",
       "      <td>34596.2</td>\n",
       "      <td>20757.72</td>\n",
       "      <td>41515.44</td>\n",
       "      <td>20757.72</td>\n",
       "      <td>58813.54</td>\n",
       "      <td>13838.48</td>\n",
       "      <td>51894.30</td>\n",
       "      <td>13838.48</td>\n",
       "      <td>24217.34</td>\n",
       "      <td>13838.48</td>\n",
       "    </tr>\n",
       "    <tr>\n",
       "      <th>7</th>\n",
       "      <td>2020</td>\n",
       "      <td>35844.7</td>\n",
       "      <td>21506.82</td>\n",
       "      <td>43013.64</td>\n",
       "      <td>21506.82</td>\n",
       "      <td>60935.99</td>\n",
       "      <td>14337.88</td>\n",
       "      <td>53767.05</td>\n",
       "      <td>14337.88</td>\n",
       "      <td>25091.29</td>\n",
       "      <td>14337.88</td>\n",
       "    </tr>\n",
       "    <tr>\n",
       "      <th>8</th>\n",
       "      <td>2021</td>\n",
       "      <td>38289.3</td>\n",
       "      <td>22973.58</td>\n",
       "      <td>45947.16</td>\n",
       "      <td>22973.58</td>\n",
       "      <td>65091.81</td>\n",
       "      <td>15315.72</td>\n",
       "      <td>57433.95</td>\n",
       "      <td>15315.72</td>\n",
       "      <td>26802.51</td>\n",
       "      <td>15315.72</td>\n",
       "    </tr>\n",
       "    <tr>\n",
       "      <th>9</th>\n",
       "      <td>2022</td>\n",
       "      <td>35383.6</td>\n",
       "      <td>21230.16</td>\n",
       "      <td>42460.32</td>\n",
       "      <td>21230.16</td>\n",
       "      <td>60152.12</td>\n",
       "      <td>14153.44</td>\n",
       "      <td>53075.40</td>\n",
       "      <td>14153.44</td>\n",
       "      <td>24768.52</td>\n",
       "      <td>14153.44</td>\n",
       "    </tr>\n",
       "  </tbody>\n",
       "</table>\n",
       "</div>"
      ],
      "text/plain": [
       "   year  minnesota_production  south dakota_production  nebraska_production  \\\n",
       "0  2013               35131.6                 21078.96             42157.92   \n",
       "1  2014               36113.6                 21668.16             43336.32   \n",
       "2  2015               34550.6                 20730.36             41460.72   \n",
       "3  2016               38477.8                 23086.68             46173.36   \n",
       "4  2017               37109.6                 22265.76             44531.52   \n",
       "5  2018               36426.2                 21855.72             43711.44   \n",
       "6  2019               34596.2                 20757.72             41515.44   \n",
       "7  2020               35844.7                 21506.82             43013.64   \n",
       "8  2021               38289.3                 22973.58             45947.16   \n",
       "9  2022               35383.6                 21230.16             42460.32   \n",
       "\n",
       "   kansas_production  iowa_production  wisconsin_production  \\\n",
       "0           21078.96         59723.72              14052.64   \n",
       "1           21668.16         61393.12              14445.44   \n",
       "2           20730.36         58736.02              13820.24   \n",
       "3           23086.68         65412.26              15391.12   \n",
       "4           22265.76         63086.32              14843.84   \n",
       "5           21855.72         61924.54              14570.48   \n",
       "6           20757.72         58813.54              13838.48   \n",
       "7           21506.82         60935.99              14337.88   \n",
       "8           22973.58         65091.81              15315.72   \n",
       "9           21230.16         60152.12              14153.44   \n",
       "\n",
       "   illinois_production  missouri_production  indiana_production  \\\n",
       "0             52697.40             14052.64            24592.12   \n",
       "1             54170.40             14445.44            25279.52   \n",
       "2             51825.90             13820.24            24185.42   \n",
       "3             57716.70             15391.12            26934.46   \n",
       "4             55664.40             14843.84            25976.72   \n",
       "5             54639.30             14570.48            25498.34   \n",
       "6             51894.30             13838.48            24217.34   \n",
       "7             53767.05             14337.88            25091.29   \n",
       "8             57433.95             15315.72            26802.51   \n",
       "9             53075.40             14153.44            24768.52   \n",
       "\n",
       "   ohio_production  \n",
       "0         14052.64  \n",
       "1         14445.44  \n",
       "2         13820.24  \n",
       "3         15391.12  \n",
       "4         14843.84  \n",
       "5         14570.48  \n",
       "6         13838.48  \n",
       "7         14337.88  \n",
       "8         15315.72  \n",
       "9         14153.44  "
      ]
     },
     "execution_count": 154,
     "metadata": {},
     "output_type": "execute_result"
    }
   ],
   "source": [
    "# Now that we've validated our processing, we can drop the total_production column since it's not needed anymore\n",
    "df_final_crops = df_final_crops.rename(columns={\"Market_Year\": \"year\"})\n",
    "df_final_crops = df_final_crops.drop(columns=[\"Total_Production\"])\n",
    "df_final_crops"
   ]
  },
  {
   "cell_type": "code",
   "execution_count": 158,
   "metadata": {},
   "outputs": [],
   "source": [
    "df_final_crops.to_csv(\"../data/crop_data.csv\", index=False)"
   ]
  },
  {
   "cell_type": "markdown",
   "metadata": {},
   "source": [
    "Let's actually pivot because we most likely will not have enough data for modeling.\n",
    "\n",
    "Instead, let's pull production samples on the county-level for each of these corn belt states.\n",
    "\n",
    "Further EDA/data set creation work will happen in \"even_more_crops_analysis.ipynb\""
   ]
  }
 ],
 "metadata": {
  "kernelspec": {
   "display_name": "Python 3.10.8 ('env': venv)",
   "language": "python",
   "name": "python3"
  },
  "language_info": {
   "codemirror_mode": {
    "name": "ipython",
    "version": 3
   },
   "file_extension": ".py",
   "mimetype": "text/x-python",
   "name": "python",
   "nbconvert_exporter": "python",
   "pygments_lexer": "ipython3",
   "version": "3.10.8"
  },
  "orig_nbformat": 4,
  "vscode": {
   "interpreter": {
    "hash": "f6f75a37e9297c3266a959ebae3bbbd58c34cfa4f12da886c905f1cb20fc77e5"
   }
  }
 },
 "nbformat": 4,
 "nbformat_minor": 2
}
