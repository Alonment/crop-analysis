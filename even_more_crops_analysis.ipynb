{
 "cells": [
  {
   "cell_type": "code",
   "execution_count": 110,
   "metadata": {},
   "outputs": [],
   "source": [
    "import pandas as pd\n",
    "import requests\n",
    "import io"
   ]
  },
  {
   "cell_type": "code",
   "execution_count": 111,
   "metadata": {},
   "outputs": [],
   "source": [
    "API_KEY = \"861E6E6E-6BD2-3C50-8731-82E4EC90A5E3\"\n"
   ]
  },
  {
   "cell_type": "code",
   "execution_count": 112,
   "metadata": {},
   "outputs": [],
   "source": [
    "# API Documentation at https://quickstats.nass.usda.gov/api/\n",
    "\n",
    "params = {\n",
    "    \"source_desc\": \"SURVEY\",\n",
    "    \"sector_desc\": \"CROPS\",\n",
    "    \"group_desc\": \"FIELD CROPS\",\n",
    "    \"commodity_desc\": \"CORN\",\n",
    "    \"statisticcat_desc\": \"PRODUCTION\",\n",
    "    \"short_desc\": \"CORN, GRAIN - PRODUCTION, MEASURED IN BU\",\n",
    "    \"domain_desc\": \"TOTAL\",\n",
    "    \"agg_level_desc\": \"COUNTY\",\n",
    "    \"year__GE\": \"2013\"\n",
    "}\n",
    "\n",
    "query = \"&\".join([f\"{key}={val}\" for key, val in params.items()])\n",
    "\n",
    "URL = f\"https://quickstats.nass.usda.gov/api/api_GET/?key={API_KEY}&{query}&format=CSV\"\n",
    "headers = {'User-Agent': ''} # NEEDED BECAUSE USDA BLOCKS 'non-browser' traffic\n"
   ]
  },
  {
   "cell_type": "code",
   "execution_count": 113,
   "metadata": {},
   "outputs": [],
   "source": [
    "response = requests.get(URL,headers = {'User-Agent': ''})"
   ]
  },
  {
   "cell_type": "code",
   "execution_count": null,
   "metadata": {},
   "outputs": [],
   "source": [
    "df = pd.read_csv(io.StringIO(response.content.decode(\"UTF-8\")), thousands=\",\")"
   ]
  },
  {
   "cell_type": "code",
   "execution_count": null,
   "metadata": {},
   "outputs": [
    {
     "name": "stdout",
     "output_type": "stream",
     "text": [
      "14524\n",
      "Index(['source_desc', 'sector_desc', 'group_desc', 'commodity_desc',\n",
      "       'class_desc', 'prodn_practice_desc', 'util_practice_desc',\n",
      "       'statisticcat_desc', 'unit_desc', 'short_desc', 'domain_desc',\n",
      "       'domaincat_desc', 'agg_level_desc', 'state_ansi', 'state_fips_code',\n",
      "       'state_alpha', 'state_name', 'asd_code', 'asd_desc', 'county_ansi',\n",
      "       'county_code', 'county_name', 'region_desc', 'zip_5', 'watershed_code',\n",
      "       'watershed_desc', 'congr_district_code', 'country_code', 'country_name',\n",
      "       'location_desc', 'year', 'freq_desc', 'begin_code', 'end_code',\n",
      "       'reference_period_desc', 'week_ending', 'load_time', 'Value', 'CV (%)'],\n",
      "      dtype='object')\n"
     ]
    }
   ],
   "source": [
    "print(len(df))\n",
    "print(df.columns)"
   ]
  },
  {
   "cell_type": "markdown",
   "metadata": {},
   "source": [
    "That's a lot of columns. Let's keep the ones we care about."
   ]
  },
  {
   "cell_type": "code",
   "execution_count": null,
   "metadata": {},
   "outputs": [],
   "source": [
    "columnsToKeep = [\"year\", \"state_name\", 'county_name', \"Value\"]\n",
    "df = df[columnsToKeep]"
   ]
  },
  {
   "cell_type": "code",
   "execution_count": null,
   "metadata": {},
   "outputs": [
    {
     "data": {
      "text/html": [
       "<div>\n",
       "<style scoped>\n",
       "    .dataframe tbody tr th:only-of-type {\n",
       "        vertical-align: middle;\n",
       "    }\n",
       "\n",
       "    .dataframe tbody tr th {\n",
       "        vertical-align: top;\n",
       "    }\n",
       "\n",
       "    .dataframe thead th {\n",
       "        text-align: right;\n",
       "    }\n",
       "</style>\n",
       "<table border=\"1\" class=\"dataframe\">\n",
       "  <thead>\n",
       "    <tr style=\"text-align: right;\">\n",
       "      <th></th>\n",
       "      <th>year</th>\n",
       "      <th>state_name</th>\n",
       "      <th>Value</th>\n",
       "    </tr>\n",
       "  </thead>\n",
       "  <tbody>\n",
       "    <tr>\n",
       "      <th>0</th>\n",
       "      <td>2019</td>\n",
       "      <td>ALABAMA</td>\n",
       "      <td>920000</td>\n",
       "    </tr>\n",
       "    <tr>\n",
       "      <th>1</th>\n",
       "      <td>2018</td>\n",
       "      <td>ALABAMA</td>\n",
       "      <td>322000</td>\n",
       "    </tr>\n",
       "    <tr>\n",
       "      <th>2</th>\n",
       "      <td>2017</td>\n",
       "      <td>ALABAMA</td>\n",
       "      <td>254000</td>\n",
       "    </tr>\n",
       "    <tr>\n",
       "      <th>3</th>\n",
       "      <td>2016</td>\n",
       "      <td>ALABAMA</td>\n",
       "      <td>192000</td>\n",
       "    </tr>\n",
       "    <tr>\n",
       "      <th>4</th>\n",
       "      <td>2015</td>\n",
       "      <td>ALABAMA</td>\n",
       "      <td>990000</td>\n",
       "    </tr>\n",
       "  </tbody>\n",
       "</table>\n",
       "</div>"
      ],
      "text/plain": [
       "   year state_name   Value\n",
       "0  2019    ALABAMA  920000\n",
       "1  2018    ALABAMA  322000\n",
       "2  2017    ALABAMA  254000\n",
       "3  2016    ALABAMA  192000\n",
       "4  2015    ALABAMA  990000"
      ]
     },
     "execution_count": 98,
     "metadata": {},
     "output_type": "execute_result"
    }
   ],
   "source": [
    "df.head()"
   ]
  },
  {
   "cell_type": "markdown",
   "metadata": {},
   "source": [
    "Now that we have all the corn production data by county for all of the states,\n",
    "let's further prune this for the counties in the state's that we want."
   ]
  },
  {
   "cell_type": "code",
   "execution_count": null,
   "metadata": {},
   "outputs": [],
   "source": [
    "corn_belt_states = set([\n",
    "    \"MINNESOTA\",\n",
    "    \"SOUTH DAKOTA\",\n",
    "    \"NEBRASKA\",\n",
    "    \"KANSAS\",\n",
    "    \"IOWA\",\n",
    "    \"WISCONSIN\",\n",
    "    \"ILLINOIS\",\n",
    "    \"MISSOURI\",\n",
    "    \"INDIANA\",\n",
    "    \"OHIO\"\n",
    "])\n",
    "\n",
    "df_corn = df[df[\"state_name\"].isin(set(corn_belt_states))].reset_index(drop=True)"
   ]
  },
  {
   "cell_type": "code",
   "execution_count": null,
   "metadata": {},
   "outputs": [
    {
     "data": {
      "text/html": [
       "<div>\n",
       "<style scoped>\n",
       "    .dataframe tbody tr th:only-of-type {\n",
       "        vertical-align: middle;\n",
       "    }\n",
       "\n",
       "    .dataframe tbody tr th {\n",
       "        vertical-align: top;\n",
       "    }\n",
       "\n",
       "    .dataframe thead th {\n",
       "        text-align: right;\n",
       "    }\n",
       "</style>\n",
       "<table border=\"1\" class=\"dataframe\">\n",
       "  <thead>\n",
       "    <tr style=\"text-align: right;\">\n",
       "      <th></th>\n",
       "      <th>year</th>\n",
       "      <th>state_name</th>\n",
       "      <th>Value</th>\n",
       "    </tr>\n",
       "  </thead>\n",
       "  <tbody>\n",
       "    <tr>\n",
       "      <th>0</th>\n",
       "      <td>2019</td>\n",
       "      <td>ILLINOIS</td>\n",
       "      <td>16000000</td>\n",
       "    </tr>\n",
       "    <tr>\n",
       "      <th>1</th>\n",
       "      <td>2021</td>\n",
       "      <td>ILLINOIS</td>\n",
       "      <td>50468000</td>\n",
       "    </tr>\n",
       "    <tr>\n",
       "      <th>2</th>\n",
       "      <td>2020</td>\n",
       "      <td>ILLINOIS</td>\n",
       "      <td>51135000</td>\n",
       "    </tr>\n",
       "    <tr>\n",
       "      <th>3</th>\n",
       "      <td>2019</td>\n",
       "      <td>ILLINOIS</td>\n",
       "      <td>37696000</td>\n",
       "    </tr>\n",
       "    <tr>\n",
       "      <th>4</th>\n",
       "      <td>2018</td>\n",
       "      <td>ILLINOIS</td>\n",
       "      <td>55882000</td>\n",
       "    </tr>\n",
       "  </tbody>\n",
       "</table>\n",
       "</div>"
      ],
      "text/plain": [
       "   year state_name     Value\n",
       "0  2019   ILLINOIS  16000000\n",
       "1  2021   ILLINOIS  50468000\n",
       "2  2020   ILLINOIS  51135000\n",
       "3  2019   ILLINOIS  37696000\n",
       "4  2018   ILLINOIS  55882000"
      ]
     },
     "execution_count": 104,
     "metadata": {},
     "output_type": "execute_result"
    }
   ],
   "source": [
    "df_corn.head()"
   ]
  },
  {
   "cell_type": "markdown",
   "metadata": {},
   "source": [
    "Currently, these values are in terms of bushels. Let's convert it to (1000 metric tons)."
   ]
  },
  {
   "cell_type": "code",
   "execution_count": null,
   "metadata": {},
   "outputs": [],
   "source": [
    "df_corn[\"Value\"] = df_corn[\"Value\"]/39.3679/1000"
   ]
  },
  {
   "cell_type": "code",
   "execution_count": null,
   "metadata": {},
   "outputs": [
    {
     "data": {
      "text/html": [
       "<div>\n",
       "<style scoped>\n",
       "    .dataframe tbody tr th:only-of-type {\n",
       "        vertical-align: middle;\n",
       "    }\n",
       "\n",
       "    .dataframe tbody tr th {\n",
       "        vertical-align: top;\n",
       "    }\n",
       "\n",
       "    .dataframe thead th {\n",
       "        text-align: right;\n",
       "    }\n",
       "</style>\n",
       "<table border=\"1\" class=\"dataframe\">\n",
       "  <thead>\n",
       "    <tr style=\"text-align: right;\">\n",
       "      <th></th>\n",
       "      <th>year</th>\n",
       "      <th>state_name</th>\n",
       "      <th>Value</th>\n",
       "    </tr>\n",
       "  </thead>\n",
       "  <tbody>\n",
       "    <tr>\n",
       "      <th>0</th>\n",
       "      <td>2019</td>\n",
       "      <td>ILLINOIS</td>\n",
       "      <td>406.422491</td>\n",
       "    </tr>\n",
       "    <tr>\n",
       "      <th>1</th>\n",
       "      <td>2021</td>\n",
       "      <td>ILLINOIS</td>\n",
       "      <td>1281.958144</td>\n",
       "    </tr>\n",
       "    <tr>\n",
       "      <th>2</th>\n",
       "      <td>2020</td>\n",
       "      <td>ILLINOIS</td>\n",
       "      <td>1298.900881</td>\n",
       "    </tr>\n",
       "    <tr>\n",
       "      <th>3</th>\n",
       "      <td>2019</td>\n",
       "      <td>ILLINOIS</td>\n",
       "      <td>957.531390</td>\n",
       "    </tr>\n",
       "    <tr>\n",
       "      <th>4</th>\n",
       "      <td>2018</td>\n",
       "      <td>ILLINOIS</td>\n",
       "      <td>1419.481354</td>\n",
       "    </tr>\n",
       "  </tbody>\n",
       "</table>\n",
       "</div>"
      ],
      "text/plain": [
       "   year state_name        Value\n",
       "0  2019   ILLINOIS   406.422491\n",
       "1  2021   ILLINOIS  1281.958144\n",
       "2  2020   ILLINOIS  1298.900881\n",
       "3  2019   ILLINOIS   957.531390\n",
       "4  2018   ILLINOIS  1419.481354"
      ]
     },
     "execution_count": 109,
     "metadata": {},
     "output_type": "execute_result"
    }
   ],
   "source": [
    "df_corn['state_name']"
   ]
  }
 ],
 "metadata": {
  "kernelspec": {
   "display_name": "Python 3.10.8 ('env': venv)",
   "language": "python",
   "name": "python3"
  },
  "language_info": {
   "codemirror_mode": {
    "name": "ipython",
    "version": 3
   },
   "file_extension": ".py",
   "mimetype": "text/x-python",
   "name": "python",
   "nbconvert_exporter": "python",
   "pygments_lexer": "ipython3",
   "version": "3.10.8"
  },
  "orig_nbformat": 4,
  "vscode": {
   "interpreter": {
    "hash": "f6f75a37e9297c3266a959ebae3bbbd58c34cfa4f12da886c905f1cb20fc77e5"
   }
  }
 },
 "nbformat": 4,
 "nbformat_minor": 2
}
